{
 "cells": [
  {
   "cell_type": "markdown",
   "metadata": {},
   "source": [
    "# Uplift modeling introduction with example\n",
    "Stephen Klosterman\n",
    "\n",
    "steve.klosterman@gmail.com"
   ]
  },
  {
   "cell_type": "code",
   "execution_count": 65,
   "metadata": {
    "scrolled": true
   },
   "outputs": [],
   "source": [
    "# load in packages\n",
    "from itertools import combinations\n",
    "\n",
    "from test_results import valid_results, test_results, score\n",
    "import numpy as np\n",
    "import pandas as pd\n",
    "import scipy as sp\n",
    "import sklearn as sk\n",
    "import xgboost as xgb\n",
    "from imblearn.over_sampling import SMOTE\n",
    "from statsmodels.stats.power import NormalIndPower\n",
    "from statsmodels.stats.proportion import proportion_effectsize\n",
    "from sklearn.metrics import auc\n",
    "\n",
    "import matplotlib as mpl\n",
    "import matplotlib.pyplot as plt\n",
    "import seaborn as sb\n",
    "%matplotlib inline"
   ]
  },
  {
   "cell_type": "markdown",
   "metadata": {},
   "source": [
    "# Intro\n",
    "### What is it?\n",
    "Uplift modeling is a predictive modeling approach to identifying which customers are most likely to response to a promotion. This modeling technique goes by several names, including net lift and incremental response modeling.\n",
    "\n",
    "### Why do it?\n",
    "Uplift modeling is useful any time there is consideration of offering a costly action, in hopes of some benefit. In marketing, this is often thought of as a coupon that might be offered. The coupon has a cost in the form of the lost revenue, due to the offerred discount. However, if the offer convinces certain customers to make the purchase, who otherwise wouldn't have, it may be worth it. __Identifying these incremental customers is the goal of uplift modeling.__\n",
    "\n",
    "In general customers can be broken in to four groups, in terms of their behavior under the scenario of receiving a promotion. If the promotion is called a \"treatment\" and the desired behavior is a purchase, the situation can be visualized like this:\n",
    "\n",
    "<img src=\"https://storage.googleapis.com/wf-blogs-engineering-media/2018/10/e45e2d97-confmatrix_alt.png\" alt=\"Drawing\" style=\"width: 400px;\"/>\n",
    "\n",
    "[Yi and Frost, 2018](https://tech.wayfair.com/data-science/2018/10/pylift-a-fast-python-package-for-uplift-modeling)\n",
    "\n",
    "Uplift modeling seeks to identify the \"persuadables\" and avoid bothering the \"sleeping dogs\", or those who would react negatively to the action, if they exist."
   ]
  },
  {
   "cell_type": "markdown",
   "metadata": {},
   "source": [
    "### Connections to A/B testing\n",
    "Building an uplift model requires a specific type of data: data from a randomized experiment, often called an A/B test if only one treatment is considered.\n",
    "\n",
    ">Estimating customer uplift is both a Causal Inference and a Machine Learning problem. It is a causal inference problem because one needs to estimate the difference between two outcomes that are mutually exclusive for an individual (either person i receives a promotional e-mail or does not receive it). To overcome this counter-factual nature, uplift modeling crucially relies on randomized experiments, i.e. the random assignment of customers to either receive the treatment (the treatment group) or not (the control group). Uplift modeling is also a machine learning problem as one needs to train different models and select the one that yields the most reliable uplift prediction according to some per- formance metrics. This requires sensible cross-validation strategies along with potential feature engineering.\n",
    "\n",
    "[Gutierrez and Gerardy, 2016](http://proceedings.mlr.press/v67/gutierrez17a/gutierrez17a.pdf)\n",
    "\n",
    "The results of an A/B test, such as offering a promotion, should indicate that the action has the desired effect, such as increasing sales. Once this has been established, an uplift model can be built to make a data-driven decision of __which customers to take the action on__, as opposed to the naive approach of taking a potentially costly action for all customers.\n",
    "\n",
    "### Why does it matter at Tala?\n",
    "Use cases at Tala potentially include deciding which customers to place collections phone calls to. These phone calls have some cost to Tala, in the form of call center operations. The desired benefit is that more customers will repay their loans, as a result of receiving a collections phone call. Other potential use cases include any costly offer or intervention, expected to increase revenue in some way."
   ]
  },
  {
   "cell_type": "markdown",
   "metadata": {},
   "source": [
    "### Example\n",
    "These data come from a Starbucks data challenge, communicated via a Nanodegree in data science from Udacity, and then via a [blog post](https://medium.com/datadriveninvestor/simple-machine-learning-techniques-to-improve-your-marketing-strategy-demystifying-uplift-models-dc4fb3f927a2)\n",
    "\n",
    "- `ID` = customer ID\n",
    "- `Promotion` = Yes or No, did the customer receive a promotion\n",
    "- `purchase` = 1 or 0, did the customer make a purchase\n",
    "- `V1` - `V7` = features\n",
    "\n",
    "The goal is to create a model to maximize incremental profit from selectively offering the promotion, which has a cost. There are specific goals laid out in the data challenge but here I will use evaluation metrics from a publication: http://proceedings.mlr.press/v67/gutierrez17a/gutierrez17a.pdf"
   ]
  },
  {
   "cell_type": "code",
   "execution_count": 2,
   "metadata": {},
   "outputs": [
    {
     "data": {
      "text/html": [
       "<div>\n",
       "<style scoped>\n",
       "    .dataframe tbody tr th:only-of-type {\n",
       "        vertical-align: middle;\n",
       "    }\n",
       "\n",
       "    .dataframe tbody tr th {\n",
       "        vertical-align: top;\n",
       "    }\n",
       "\n",
       "    .dataframe thead th {\n",
       "        text-align: right;\n",
       "    }\n",
       "</style>\n",
       "<table border=\"1\" class=\"dataframe\">\n",
       "  <thead>\n",
       "    <tr style=\"text-align: right;\">\n",
       "      <th></th>\n",
       "      <th>ID</th>\n",
       "      <th>Promotion</th>\n",
       "      <th>purchase</th>\n",
       "      <th>V1</th>\n",
       "      <th>V2</th>\n",
       "      <th>V3</th>\n",
       "      <th>V4</th>\n",
       "      <th>V5</th>\n",
       "      <th>V6</th>\n",
       "      <th>V7</th>\n",
       "    </tr>\n",
       "  </thead>\n",
       "  <tbody>\n",
       "    <tr>\n",
       "      <th>0</th>\n",
       "      <td>1</td>\n",
       "      <td>No</td>\n",
       "      <td>0</td>\n",
       "      <td>2</td>\n",
       "      <td>30.443518</td>\n",
       "      <td>-1.165083</td>\n",
       "      <td>1</td>\n",
       "      <td>1</td>\n",
       "      <td>3</td>\n",
       "      <td>2</td>\n",
       "    </tr>\n",
       "    <tr>\n",
       "      <th>1</th>\n",
       "      <td>3</td>\n",
       "      <td>No</td>\n",
       "      <td>0</td>\n",
       "      <td>3</td>\n",
       "      <td>32.159350</td>\n",
       "      <td>-0.645617</td>\n",
       "      <td>2</td>\n",
       "      <td>3</td>\n",
       "      <td>2</td>\n",
       "      <td>2</td>\n",
       "    </tr>\n",
       "    <tr>\n",
       "      <th>2</th>\n",
       "      <td>4</td>\n",
       "      <td>No</td>\n",
       "      <td>0</td>\n",
       "      <td>2</td>\n",
       "      <td>30.431659</td>\n",
       "      <td>0.133583</td>\n",
       "      <td>1</td>\n",
       "      <td>1</td>\n",
       "      <td>4</td>\n",
       "      <td>2</td>\n",
       "    </tr>\n",
       "    <tr>\n",
       "      <th>3</th>\n",
       "      <td>5</td>\n",
       "      <td>No</td>\n",
       "      <td>0</td>\n",
       "      <td>0</td>\n",
       "      <td>26.588914</td>\n",
       "      <td>-0.212728</td>\n",
       "      <td>2</td>\n",
       "      <td>1</td>\n",
       "      <td>4</td>\n",
       "      <td>2</td>\n",
       "    </tr>\n",
       "    <tr>\n",
       "      <th>4</th>\n",
       "      <td>8</td>\n",
       "      <td>Yes</td>\n",
       "      <td>0</td>\n",
       "      <td>3</td>\n",
       "      <td>28.044332</td>\n",
       "      <td>-0.385883</td>\n",
       "      <td>1</td>\n",
       "      <td>1</td>\n",
       "      <td>2</td>\n",
       "      <td>2</td>\n",
       "    </tr>\n",
       "  </tbody>\n",
       "</table>\n",
       "</div>"
      ],
      "text/plain": [
       "   ID Promotion  purchase  V1         V2        V3  V4  V5  V6  V7\n",
       "0   1        No         0   2  30.443518 -1.165083   1   1   3   2\n",
       "1   3        No         0   3  32.159350 -0.645617   2   3   2   2\n",
       "2   4        No         0   2  30.431659  0.133583   1   1   4   2\n",
       "3   5        No         0   0  26.588914 -0.212728   2   1   4   2\n",
       "4   8       Yes         0   3  28.044332 -0.385883   1   1   2   2"
      ]
     },
     "execution_count": 2,
     "metadata": {},
     "output_type": "execute_result"
    }
   ],
   "source": [
    "# load in the data\n",
    "train_data = pd.read_csv('./training.csv')\n",
    "train_data.head()"
   ]
  },
  {
   "cell_type": "code",
   "execution_count": 3,
   "metadata": {},
   "outputs": [
    {
     "data": {
      "text/html": [
       "<div>\n",
       "<style scoped>\n",
       "    .dataframe tbody tr th:only-of-type {\n",
       "        vertical-align: middle;\n",
       "    }\n",
       "\n",
       "    .dataframe tbody tr th {\n",
       "        vertical-align: top;\n",
       "    }\n",
       "\n",
       "    .dataframe thead th {\n",
       "        text-align: right;\n",
       "    }\n",
       "</style>\n",
       "<table border=\"1\" class=\"dataframe\">\n",
       "  <thead>\n",
       "    <tr style=\"text-align: right;\">\n",
       "      <th></th>\n",
       "      <th>ID</th>\n",
       "      <th>Promotion</th>\n",
       "      <th>purchase</th>\n",
       "      <th>V1</th>\n",
       "      <th>V2</th>\n",
       "      <th>V3</th>\n",
       "      <th>V4</th>\n",
       "      <th>V5</th>\n",
       "      <th>V6</th>\n",
       "      <th>V7</th>\n",
       "    </tr>\n",
       "  </thead>\n",
       "  <tbody>\n",
       "    <tr>\n",
       "      <th>0</th>\n",
       "      <td>2</td>\n",
       "      <td>No</td>\n",
       "      <td>0</td>\n",
       "      <td>1</td>\n",
       "      <td>41.376390</td>\n",
       "      <td>1.172517</td>\n",
       "      <td>1</td>\n",
       "      <td>1</td>\n",
       "      <td>2</td>\n",
       "      <td>2</td>\n",
       "    </tr>\n",
       "    <tr>\n",
       "      <th>1</th>\n",
       "      <td>6</td>\n",
       "      <td>Yes</td>\n",
       "      <td>0</td>\n",
       "      <td>1</td>\n",
       "      <td>25.163598</td>\n",
       "      <td>0.653050</td>\n",
       "      <td>2</td>\n",
       "      <td>2</td>\n",
       "      <td>2</td>\n",
       "      <td>2</td>\n",
       "    </tr>\n",
       "    <tr>\n",
       "      <th>2</th>\n",
       "      <td>7</td>\n",
       "      <td>Yes</td>\n",
       "      <td>0</td>\n",
       "      <td>1</td>\n",
       "      <td>26.553778</td>\n",
       "      <td>-1.597972</td>\n",
       "      <td>2</td>\n",
       "      <td>3</td>\n",
       "      <td>4</td>\n",
       "      <td>2</td>\n",
       "    </tr>\n",
       "    <tr>\n",
       "      <th>3</th>\n",
       "      <td>10</td>\n",
       "      <td>No</td>\n",
       "      <td>0</td>\n",
       "      <td>2</td>\n",
       "      <td>28.529691</td>\n",
       "      <td>-1.078506</td>\n",
       "      <td>2</td>\n",
       "      <td>3</td>\n",
       "      <td>2</td>\n",
       "      <td>2</td>\n",
       "    </tr>\n",
       "    <tr>\n",
       "      <th>4</th>\n",
       "      <td>12</td>\n",
       "      <td>No</td>\n",
       "      <td>0</td>\n",
       "      <td>2</td>\n",
       "      <td>32.378538</td>\n",
       "      <td>0.479895</td>\n",
       "      <td>2</td>\n",
       "      <td>2</td>\n",
       "      <td>1</td>\n",
       "      <td>2</td>\n",
       "    </tr>\n",
       "  </tbody>\n",
       "</table>\n",
       "</div>"
      ],
      "text/plain": [
       "   ID Promotion  purchase  V1         V2        V3  V4  V5  V6  V7\n",
       "0   2        No         0   1  41.376390  1.172517   1   1   2   2\n",
       "1   6       Yes         0   1  25.163598  0.653050   2   2   2   2\n",
       "2   7       Yes         0   1  26.553778 -1.597972   2   3   4   2\n",
       "3  10        No         0   2  28.529691 -1.078506   2   3   2   2\n",
       "4  12        No         0   2  32.378538  0.479895   2   2   1   2"
      ]
     },
     "execution_count": 3,
     "metadata": {},
     "output_type": "execute_result"
    }
   ],
   "source": [
    "test_data = pd.read_csv('./Test.csv')\n",
    "test_data.head()"
   ]
  },
  {
   "cell_type": "code",
   "execution_count": 4,
   "metadata": {},
   "outputs": [
    {
     "name": "stdout",
     "output_type": "stream",
     "text": [
      "<class 'pandas.core.frame.DataFrame'>\n",
      "RangeIndex: 84534 entries, 0 to 84533\n",
      "Data columns (total 10 columns):\n",
      "ID           84534 non-null int64\n",
      "Promotion    84534 non-null object\n",
      "purchase     84534 non-null int64\n",
      "V1           84534 non-null int64\n",
      "V2           84534 non-null float64\n",
      "V3           84534 non-null float64\n",
      "V4           84534 non-null int64\n",
      "V5           84534 non-null int64\n",
      "V6           84534 non-null int64\n",
      "V7           84534 non-null int64\n",
      "dtypes: float64(2), int64(7), object(1)\n",
      "memory usage: 6.4+ MB\n"
     ]
    }
   ],
   "source": [
    "train_data.info()"
   ]
  },
  {
   "cell_type": "code",
   "execution_count": 5,
   "metadata": {},
   "outputs": [
    {
     "name": "stdout",
     "output_type": "stream",
     "text": [
      "<class 'pandas.core.frame.DataFrame'>\n",
      "RangeIndex: 41650 entries, 0 to 41649\n",
      "Data columns (total 10 columns):\n",
      "ID           41650 non-null int64\n",
      "Promotion    41650 non-null object\n",
      "purchase     41650 non-null int64\n",
      "V1           41650 non-null int64\n",
      "V2           41650 non-null float64\n",
      "V3           41650 non-null float64\n",
      "V4           41650 non-null int64\n",
      "V5           41650 non-null int64\n",
      "V6           41650 non-null int64\n",
      "V7           41650 non-null int64\n",
      "dtypes: float64(2), int64(7), object(1)\n",
      "memory usage: 3.2+ MB\n"
     ]
    }
   ],
   "source": [
    "test_data.info()"
   ]
  },
  {
   "cell_type": "markdown",
   "metadata": {},
   "source": [
    "# TBD: Do an a/b test assessment\n",
    "Just need p-value, or also consider statistical power?"
   ]
  },
  {
   "cell_type": "markdown",
   "metadata": {},
   "source": [
    "# Build model with transformed target\n",
    "Single-model approach, either using encoding from blog post, or one from paper. May be good to compare them."
   ]
  },
  {
   "cell_type": "code",
   "execution_count": 6,
   "metadata": {},
   "outputs": [
    {
     "data": {
      "text/plain": [
       "Yes    42364\n",
       "No     42170\n",
       "Name: Promotion, dtype: int64"
      ]
     },
     "execution_count": 6,
     "metadata": {},
     "output_type": "execute_result"
    }
   ],
   "source": [
    "train_data['Promotion'].value_counts()\n",
    "# Yes    42364\n",
    "# No     42170"
   ]
  },
  {
   "cell_type": "code",
   "execution_count": 7,
   "metadata": {},
   "outputs": [
    {
     "data": {
      "text/plain": [
       "0    83494\n",
       "1     1040\n",
       "Name: purchase, dtype: int64"
      ]
     },
     "execution_count": 7,
     "metadata": {},
     "output_type": "execute_result"
    }
   ],
   "source": [
    "train_data['purchase'].value_counts()\n",
    "# 0    83494\n",
    "# 1     1040"
   ]
  },
  {
   "cell_type": "code",
   "execution_count": 8,
   "metadata": {},
   "outputs": [
    {
     "data": {
      "text/plain": [
       "0        False\n",
       "1        False\n",
       "2        False\n",
       "3        False\n",
       "4         True\n",
       "         ...  \n",
       "84529    False\n",
       "84530     True\n",
       "84531    False\n",
       "84532    False\n",
       "84533    False\n",
       "Name: Promotion, Length: 84534, dtype: bool"
      ]
     },
     "execution_count": 8,
     "metadata": {},
     "output_type": "execute_result"
    }
   ],
   "source": [
    "train_data['Promotion'].str.match('Yes')"
   ]
  },
  {
   "cell_type": "markdown",
   "metadata": {},
   "source": [
    "Make transformed target for training data. This was suggested in the blog post. It uses all the observations, to be trained in one model. The target variable is 1 if the person was offered the promotion and made the purchase, and 0 otherwise."
   ]
  },
  {
   "cell_type": "code",
   "execution_count": 9,
   "metadata": {},
   "outputs": [],
   "source": [
    "train_data['target'] = train_data['Promotion'].str.match('Yes') & train_data['purchase'].astype('bool')\n",
    "\n",
    "# train_data['target'] = (train_data['Promotion'].str.match('Yes') & train_data['purchase'].astype('bool'))\\\n",
    "#     | (train_data['Promotion'].str.match('No') & train_data['purchase']==0)\n",
    "\n",
    "train_data['target'] = train_data['target'].astype('bool')"
   ]
  },
  {
   "cell_type": "code",
   "execution_count": 10,
   "metadata": {},
   "outputs": [
    {
     "data": {
      "text/plain": [
       "False    83813\n",
       "True       721\n",
       "Name: target, dtype: int64"
      ]
     },
     "execution_count": 10,
     "metadata": {},
     "output_type": "execute_result"
    }
   ],
   "source": [
    "train_data['target'].value_counts()\n",
    "# False    83813\n",
    "# True       721"
   ]
  },
  {
   "cell_type": "code",
   "execution_count": 11,
   "metadata": {},
   "outputs": [
    {
     "data": {
      "text/plain": [
       "721"
      ]
     },
     "execution_count": 11,
     "metadata": {},
     "output_type": "execute_result"
    }
   ],
   "source": [
    "train_data['target'].sum()\n",
    "# 721"
   ]
  },
  {
   "cell_type": "code",
   "execution_count": 12,
   "metadata": {},
   "outputs": [],
   "source": [
    "# split training data into train and validation\n",
    "train, valid = sk.model_selection.train_test_split(train_data, test_size=0.2,random_state=42)"
   ]
  },
  {
   "cell_type": "markdown",
   "metadata": {},
   "source": [
    "Downsample training data for balanced classes\n",
    "\n",
    "https://stackoverflow.com/questions/44114463/stratified-sampling-in-pandas"
   ]
  },
  {
   "cell_type": "code",
   "execution_count": 13,
   "metadata": {},
   "outputs": [
    {
     "data": {
      "text/plain": [
       "False    67047\n",
       "True       580\n",
       "Name: target, dtype: int64"
      ]
     },
     "execution_count": 13,
     "metadata": {},
     "output_type": "execute_result"
    }
   ],
   "source": [
    "train['target'].value_counts()\n",
    "# False    67047\n",
    "# True       580"
   ]
  },
  {
   "cell_type": "code",
   "execution_count": 14,
   "metadata": {},
   "outputs": [],
   "source": [
    "downsampled_train = \\\n",
    "train.groupby('target', group_keys=False).apply(lambda x: x.sample(train['target'].sum(), random_state=1))"
   ]
  },
  {
   "cell_type": "code",
   "execution_count": 15,
   "metadata": {},
   "outputs": [
    {
     "data": {
      "text/plain": [
       "(1160, 11)"
      ]
     },
     "execution_count": 15,
     "metadata": {},
     "output_type": "execute_result"
    }
   ],
   "source": [
    "downsampled_train.shape\n",
    "# (1160, 11)"
   ]
  },
  {
   "cell_type": "code",
   "execution_count": 16,
   "metadata": {},
   "outputs": [
    {
     "data": {
      "text/plain": [
       "pandas.core.frame.DataFrame"
      ]
     },
     "execution_count": 16,
     "metadata": {},
     "output_type": "execute_result"
    }
   ],
   "source": [
    "type(downsampled_train)"
   ]
  },
  {
   "cell_type": "code",
   "execution_count": 17,
   "metadata": {},
   "outputs": [
    {
     "data": {
      "text/plain": [
       "True     580\n",
       "False    580\n",
       "Name: target, dtype: int64"
      ]
     },
     "execution_count": 17,
     "metadata": {},
     "output_type": "execute_result"
    }
   ],
   "source": [
    "downsampled_train['target'].value_counts()\n",
    "# True     580\n",
    "# False    580"
   ]
  },
  {
   "cell_type": "markdown",
   "metadata": {},
   "source": [
    "### Train XGBoost"
   ]
  },
  {
   "cell_type": "code",
   "execution_count": 18,
   "metadata": {},
   "outputs": [],
   "source": [
    "features = ['V1', 'V2', 'V3', 'V4', 'V5', 'V6', 'V7']"
   ]
  },
  {
   "cell_type": "code",
   "execution_count": 19,
   "metadata": {},
   "outputs": [],
   "source": [
    "X_train_downsamp = downsampled_train[features]\n",
    "y_train_downsamp = downsampled_train['target']\n",
    "X_valid = valid[features]\n",
    "y_valid = valid['target']"
   ]
  },
  {
   "cell_type": "code",
   "execution_count": 20,
   "metadata": {},
   "outputs": [],
   "source": [
    "eval_set = [(X_train_downsamp, y_train_downsamp), (X_valid, y_valid)]"
   ]
  },
  {
   "cell_type": "markdown",
   "metadata": {},
   "source": [
    "***Maybe do any kind of hyperparameter search? With the default parameters used for the example, the first several top scores are the same, which seems a little strange."
   ]
  },
  {
   "cell_type": "code",
   "execution_count": 21,
   "metadata": {},
   "outputs": [],
   "source": [
    "# Train an xgboost model\n",
    "model = xgb.XGBClassifier(learning_rate = 0.1,\n",
    "                          max_depth = 7,\n",
    "                          min_child_weight = 5,\n",
    "                          objective = 'binary:logistic',\n",
    "                          seed = 42,\n",
    "                          gamma = 0.1,\n",
    "                          silent = True,\n",
    "                          n_jobs=2)"
   ]
  },
  {
   "cell_type": "code",
   "execution_count": 22,
   "metadata": {},
   "outputs": [
    {
     "name": "stdout",
     "output_type": "stream",
     "text": [
      "[0]\tvalidation_0-auc:0.740039\tvalidation_1-auc:0.609996\n",
      "Multiple eval metrics have been passed: 'validation_1-auc' will be used for early stopping.\n",
      "\n",
      "Will train until validation_1-auc hasn't improved in 30 rounds.\n",
      "[1]\tvalidation_0-auc:0.751833\tvalidation_1-auc:0.625492\n",
      "[2]\tvalidation_0-auc:0.756189\tvalidation_1-auc:0.629561\n",
      "[3]\tvalidation_0-auc:0.758218\tvalidation_1-auc:0.629651\n",
      "[4]\tvalidation_0-auc:0.764927\tvalidation_1-auc:0.631139\n",
      "[5]\tvalidation_0-auc:0.771283\tvalidation_1-auc:0.632887\n",
      "[6]\tvalidation_0-auc:0.773246\tvalidation_1-auc:0.635403\n",
      "[7]\tvalidation_0-auc:0.774764\tvalidation_1-auc:0.638418\n",
      "[8]\tvalidation_0-auc:0.775724\tvalidation_1-auc:0.638948\n",
      "[9]\tvalidation_0-auc:0.780788\tvalidation_1-auc:0.638842\n",
      "[10]\tvalidation_0-auc:0.783239\tvalidation_1-auc:0.638794\n",
      "[11]\tvalidation_0-auc:0.788429\tvalidation_1-auc:0.642171\n",
      "[12]\tvalidation_0-auc:0.789997\tvalidation_1-auc:0.641225\n",
      "[13]\tvalidation_0-auc:0.793078\tvalidation_1-auc:0.639637\n",
      "[14]\tvalidation_0-auc:0.795525\tvalidation_1-auc:0.640653\n",
      "[15]\tvalidation_0-auc:0.79907\tvalidation_1-auc:0.641604\n",
      "[16]\tvalidation_0-auc:0.800025\tvalidation_1-auc:0.640935\n",
      "[17]\tvalidation_0-auc:0.803692\tvalidation_1-auc:0.639724\n",
      "[18]\tvalidation_0-auc:0.808114\tvalidation_1-auc:0.639558\n",
      "[19]\tvalidation_0-auc:0.811356\tvalidation_1-auc:0.639192\n",
      "[20]\tvalidation_0-auc:0.814725\tvalidation_1-auc:0.640183\n",
      "[21]\tvalidation_0-auc:0.816134\tvalidation_1-auc:0.638939\n",
      "[22]\tvalidation_0-auc:0.820449\tvalidation_1-auc:0.637939\n",
      "[23]\tvalidation_0-auc:0.82155\tvalidation_1-auc:0.638801\n",
      "[24]\tvalidation_0-auc:0.82607\tvalidation_1-auc:0.637565\n",
      "[25]\tvalidation_0-auc:0.82703\tvalidation_1-auc:0.637495\n",
      "[26]\tvalidation_0-auc:0.830545\tvalidation_1-auc:0.637481\n",
      "[27]\tvalidation_0-auc:0.8326\tvalidation_1-auc:0.638236\n",
      "[28]\tvalidation_0-auc:0.834194\tvalidation_1-auc:0.63822\n",
      "[29]\tvalidation_0-auc:0.835817\tvalidation_1-auc:0.637248\n",
      "[30]\tvalidation_0-auc:0.838026\tvalidation_1-auc:0.637936\n",
      "[31]\tvalidation_0-auc:0.839802\tvalidation_1-auc:0.637987\n",
      "[32]\tvalidation_0-auc:0.843292\tvalidation_1-auc:0.636654\n",
      "[33]\tvalidation_0-auc:0.84445\tvalidation_1-auc:0.636736\n",
      "[34]\tvalidation_0-auc:0.84646\tvalidation_1-auc:0.635407\n",
      "[35]\tvalidation_0-auc:0.8478\tvalidation_1-auc:0.635839\n",
      "[36]\tvalidation_0-auc:0.848249\tvalidation_1-auc:0.636566\n",
      "[37]\tvalidation_0-auc:0.849183\tvalidation_1-auc:0.636843\n",
      "[38]\tvalidation_0-auc:0.851088\tvalidation_1-auc:0.635982\n",
      "[39]\tvalidation_0-auc:0.851694\tvalidation_1-auc:0.63665\n",
      "[40]\tvalidation_0-auc:0.853222\tvalidation_1-auc:0.636699\n",
      "[41]\tvalidation_0-auc:0.854114\tvalidation_1-auc:0.636361\n",
      "Stopping. Best iteration:\n",
      "[11]\tvalidation_0-auc:0.788429\tvalidation_1-auc:0.642171\n",
      "\n",
      "CPU times: user 285 ms, sys: 11.5 ms, total: 296 ms\n",
      "Wall time: 285 ms\n"
     ]
    },
    {
     "data": {
      "text/plain": [
       "XGBClassifier(base_score=0.5, booster='gbtree', colsample_bylevel=1,\n",
       "              colsample_bynode=1, colsample_bytree=1, gamma=0.1,\n",
       "              learning_rate=0.1, max_delta_step=0, max_depth=7,\n",
       "              min_child_weight=5, missing=None, n_estimators=100, n_jobs=2,\n",
       "              nthread=None, objective='binary:logistic', random_state=0,\n",
       "              reg_alpha=0, reg_lambda=1, scale_pos_weight=1, seed=42,\n",
       "              silent=True, subsample=1, verbosity=1)"
      ]
     },
     "execution_count": 22,
     "metadata": {},
     "output_type": "execute_result"
    }
   ],
   "source": [
    "%%time\n",
    "model.fit(X_train_downsamp, y_train_downsamp, eval_set=eval_set,\\\n",
    "          eval_metric=\"auc\", verbose=True, early_stopping_rounds=30)"
   ]
  },
  {
   "cell_type": "markdown",
   "metadata": {},
   "source": [
    "Results from running at home:\n",
    "```\n",
    "Stopping. Best iteration:\n",
    "[11]\tvalidation_0-auc:0.788429\tvalidation_1-auc:0.642171\n",
    "\n",
    "CPU times: user 632 ms, sys: 29.7 ms, total: 661 ms\n",
    "Wall time: 384 ms\n",
    "XGBClassifier(base_score=0.5, booster='gbtree', colsample_bylevel=1,\n",
    "              colsample_bynode=1, colsample_bytree=1, gamma=0.1,\n",
    "              learning_rate=0.1, max_delta_step=0, max_depth=7,\n",
    "              min_child_weight=5, missing=None, n_estimators=100, n_jobs=2,\n",
    "              nthread=None, objective='binary:logistic', random_state=0,\n",
    "              reg_alpha=0, reg_lambda=1, scale_pos_weight=1, seed=42,\n",
    "              silent=True, subsample=1, verbosity=1)\n",
    "```\n",
    "\n",
    "Identical results, running in the office."
   ]
  },
  {
   "cell_type": "markdown",
   "metadata": {},
   "source": [
    "# Model evaluation\n",
    "### Uplift decile chart\n",
    "Use deciles and Qini curve.\n",
    "- Compare downsampling versus SMOTE, and two different ways of encoding the response\n",
    "\n",
    "Either way, a key consideration when assessing the lift, or incremental profit, is to not use balanced (or downsampled) data, but rather to use all observations, of either the validation or test set."
   ]
  },
  {
   "cell_type": "markdown",
   "metadata": {},
   "source": [
    "Gutierrez and and Gerardy 2016:\n",
    "\n",
    ">A common approach to evaluate an uplift model is to first predict uplift for both treated and control observations and compute the average prediction per decile in both groups. Then, the difference between those averages is taken for each decile. This difference thus gives an idea of the uplift gain per decile."
   ]
  },
  {
   "cell_type": "markdown",
   "metadata": {},
   "source": [
    "Break this procedure down in to chunks. First,\n",
    "\n",
    "> predict uplift for both treated and control observations\n",
    "\n",
    "Do this for the validation set."
   ]
  },
  {
   "cell_type": "markdown",
   "metadata": {},
   "source": [
    "Get uplift prediction for all observations"
   ]
  },
  {
   "cell_type": "code",
   "execution_count": 23,
   "metadata": {},
   "outputs": [],
   "source": [
    "# #Peak at test set\n",
    "# X_valid = test_data[features]"
   ]
  },
  {
   "cell_type": "code",
   "execution_count": 24,
   "metadata": {},
   "outputs": [
    {
     "data": {
      "text/plain": [
       "(array([ 731., 1248., 1984., 2305., 1922., 2370., 2119., 1953., 1332.,\n",
       "         943.]),\n",
       " array([0.20156759, 0.2541693 , 0.30677098, 0.35937268, 0.41197437,\n",
       "        0.46457607, 0.51717776, 0.56977946, 0.62238115, 0.67498285,\n",
       "        0.72758454], dtype=float32),\n",
       " <a list of 10 Patch objects>)"
      ]
     },
     "execution_count": 24,
     "metadata": {},
     "output_type": "execute_result"
    },
    {
     "data": {
      "image/png": "[encoded data removed]",
      "text/plain": [
       "<Figure size 432x288 with 1 Axes>"
      ]
     },
     "metadata": {
      "needs_background": "light"
     },
     "output_type": "display_data"
    }
   ],
   "source": [
    "valid_predict_proba = model.predict_proba(X_valid)[:,1]\n",
    "plt.hist(valid_predict_proba)"
   ]
  },
  {
   "cell_type": "markdown",
   "metadata": {},
   "source": [
    "> compute the average prediction per decile in both groups\n",
    "\n",
    "Need to compute deciles for each group separately, then get the mean model prediction within these groups.\n",
    "\n",
    "I think this is actually a typo in the paper, as this would be characterizing the scores within difference deciles of scores, notwithstanding the success of the campaign (`purchase`). Rather, I think it should be to \"compute the average success, per decile of predicted success, in both groups.\n",
    "\n",
    "***Contact authors to confirm? Rather just state that I've done an evaluation oriented toward model performance in production, as opposed to analyzing model scores in and of themselves."
   ]
  },
  {
   "cell_type": "code",
   "execution_count": 25,
   "metadata": {},
   "outputs": [
    {
     "data": {
      "text/plain": [
       "(16907,)"
      ]
     },
     "execution_count": 25,
     "metadata": {},
     "output_type": "execute_result"
    }
   ],
   "source": [
    "valid_predict_proba.shape"
   ]
  },
  {
   "cell_type": "code",
   "execution_count": 26,
   "metadata": {},
   "outputs": [
    {
     "data": {
      "text/plain": [
       "(16907, 11)"
      ]
     },
     "execution_count": 26,
     "metadata": {},
     "output_type": "execute_result"
    }
   ],
   "source": [
    "valid.shape"
   ]
  },
  {
   "cell_type": "code",
   "execution_count": 27,
   "metadata": {},
   "outputs": [],
   "source": [
    "# test_data.shape"
   ]
  },
  {
   "cell_type": "markdown",
   "metadata": {},
   "source": [
    "Create a new datafrmae from the validation df, to add the uplift scores and deciles to."
   ]
  },
  {
   "cell_type": "code",
   "execution_count": 28,
   "metadata": {},
   "outputs": [],
   "source": [
    "# valid_w_score = test_data.copy()\n",
    "valid_w_score = valid.copy()\n",
    "valid_w_score['Uplift score'] = valid_predict_proba"
   ]
  },
  {
   "cell_type": "code",
   "execution_count": 29,
   "metadata": {},
   "outputs": [
    {
     "data": {
      "text/plain": [
       "No     8474\n",
       "Yes    8433\n",
       "Name: Promotion, dtype: int64"
      ]
     },
     "execution_count": 29,
     "metadata": {},
     "output_type": "execute_result"
    }
   ],
   "source": [
    "valid_w_score['Promotion'].value_counts()\n",
    "# No     8474\n",
    "# Yes    8433"
   ]
  },
  {
   "cell_type": "code",
   "execution_count": 30,
   "metadata": {},
   "outputs": [],
   "source": [
    "validation_treatment_mask = valid_w_score['Promotion'].str.match('Yes')"
   ]
  },
  {
   "cell_type": "markdown",
   "metadata": {},
   "source": [
    "Make labels for the deciles. Do treatment and control groups together."
   ]
  },
  {
   "cell_type": "code",
   "execution_count": 31,
   "metadata": {},
   "outputs": [
    {
     "name": "stdout",
     "output_type": "stream",
     "text": [
      "[1, 2, 3, 4, 5, 6, 7, 8, 9, 10]\n"
     ]
    }
   ],
   "source": [
    "decile_labels = [number for number in range(1,11)]\n",
    "print(decile_labels)"
   ]
  },
  {
   "cell_type": "markdown",
   "metadata": {},
   "source": [
    "Pandas has a convenient function to produce a series of labels according to which quantile an observation in the input series belongs to. Get the series for treatment and control separately."
   ]
  },
  {
   "cell_type": "code",
   "execution_count": 32,
   "metadata": {},
   "outputs": [],
   "source": [
    "score_deciles, score_decile_bins = \\\n",
    "pd.qcut(x=valid_w_score['Uplift score'],\n",
    "        q=10,\n",
    "        labels=decile_labels,\n",
    "        retbins=True)"
   ]
  },
  {
   "cell_type": "markdown",
   "metadata": {},
   "source": [
    "Here are the quantile labels (not differentiable between treatment and control in this output):"
   ]
  },
  {
   "cell_type": "code",
   "execution_count": 33,
   "metadata": {},
   "outputs": [
    {
     "data": {
      "text/plain": [
       "6264     8\n",
       "41822    9\n",
       "8569     6\n",
       "41228    7\n",
       "24896    4\n",
       "Name: Uplift score, dtype: category\n",
       "Categories (10, int64): [1 < 2 < 3 < 4 ... 7 < 8 < 9 < 10]"
      ]
     },
     "execution_count": 33,
     "metadata": {},
     "output_type": "execute_result"
    }
   ],
   "source": [
    "score_deciles.head()"
   ]
  },
  {
   "cell_type": "markdown",
   "metadata": {},
   "source": [
    "Bin edges:"
   ]
  },
  {
   "cell_type": "code",
   "execution_count": 34,
   "metadata": {},
   "outputs": [
    {
     "data": {
      "text/plain": [
       "array([0.20156759, 0.29423583, 0.34919083, 0.38772139, 0.42448917,\n",
       "       0.47045654, 0.50582469, 0.55224079, 0.59514534, 0.64335269,\n",
       "       0.72758454])"
      ]
     },
     "execution_count": 34,
     "metadata": {},
     "output_type": "execute_result"
    }
   ],
   "source": [
    "score_decile_bins"
   ]
  },
  {
   "cell_type": "markdown",
   "metadata": {},
   "source": [
    "Doing things this way, using one set of decile bins for both control and treatment, it seems to check that the number of treated and control observations within decile bins are similar."
   ]
  },
  {
   "cell_type": "code",
   "execution_count": 35,
   "metadata": {},
   "outputs": [],
   "source": [
    "valid_w_score['Decile bin'] = score_deciles"
   ]
  },
  {
   "cell_type": "code",
   "execution_count": 36,
   "metadata": {},
   "outputs": [
    {
     "data": {
      "text/plain": [
       "Decile bin  Promotion\n",
       "1           No           882\n",
       "            Yes          811\n",
       "2           No           837\n",
       "            Yes          853\n",
       "3           No           859\n",
       "            Yes          847\n",
       "4           No           830\n",
       "            Yes          873\n",
       "5           No           866\n",
       "            Yes          796\n",
       "6           No           853\n",
       "            Yes          840\n",
       "7           No           835\n",
       "            Yes          869\n",
       "8           No           827\n",
       "            Yes          859\n",
       "9           No           880\n",
       "            Yes          810\n",
       "10          No           805\n",
       "            Yes          875\n",
       "Name: Promotion, dtype: int64"
      ]
     },
     "execution_count": 36,
     "metadata": {},
     "output_type": "execute_result"
    }
   ],
   "source": [
    "valid_w_score.groupby(['Decile bin', 'Promotion'])['Promotion'].count()"
   ]
  },
  {
   "cell_type": "markdown",
   "metadata": {},
   "source": [
    "These indeed look very similar."
   ]
  },
  {
   "cell_type": "code",
   "execution_count": 37,
   "metadata": {},
   "outputs": [
    {
     "data": {
      "text/html": [
       "<div>\n",
       "<style scoped>\n",
       "    .dataframe tbody tr th:only-of-type {\n",
       "        vertical-align: middle;\n",
       "    }\n",
       "\n",
       "    .dataframe tbody tr th {\n",
       "        vertical-align: top;\n",
       "    }\n",
       "\n",
       "    .dataframe thead th {\n",
       "        text-align: right;\n",
       "    }\n",
       "</style>\n",
       "<table border=\"1\" class=\"dataframe\">\n",
       "  <thead>\n",
       "    <tr style=\"text-align: right;\">\n",
       "      <th></th>\n",
       "      <th>Promotion</th>\n",
       "      <th>Decile bin</th>\n",
       "      <th>Uplift score</th>\n",
       "      <th>purchase</th>\n",
       "    </tr>\n",
       "  </thead>\n",
       "  <tbody>\n",
       "    <tr>\n",
       "      <th>6264</th>\n",
       "      <td>Yes</td>\n",
       "      <td>8</td>\n",
       "      <td>0.557656</td>\n",
       "      <td>0</td>\n",
       "    </tr>\n",
       "    <tr>\n",
       "      <th>41822</th>\n",
       "      <td>No</td>\n",
       "      <td>9</td>\n",
       "      <td>0.618133</td>\n",
       "      <td>0</td>\n",
       "    </tr>\n",
       "    <tr>\n",
       "      <th>8569</th>\n",
       "      <td>No</td>\n",
       "      <td>6</td>\n",
       "      <td>0.501890</td>\n",
       "      <td>0</td>\n",
       "    </tr>\n",
       "    <tr>\n",
       "      <th>41228</th>\n",
       "      <td>No</td>\n",
       "      <td>7</td>\n",
       "      <td>0.523865</td>\n",
       "      <td>0</td>\n",
       "    </tr>\n",
       "    <tr>\n",
       "      <th>24896</th>\n",
       "      <td>Yes</td>\n",
       "      <td>4</td>\n",
       "      <td>0.413907</td>\n",
       "      <td>0</td>\n",
       "    </tr>\n",
       "    <tr>\n",
       "      <th>45830</th>\n",
       "      <td>Yes</td>\n",
       "      <td>3</td>\n",
       "      <td>0.356000</td>\n",
       "      <td>0</td>\n",
       "    </tr>\n",
       "    <tr>\n",
       "      <th>61302</th>\n",
       "      <td>Yes</td>\n",
       "      <td>3</td>\n",
       "      <td>0.386093</td>\n",
       "      <td>0</td>\n",
       "    </tr>\n",
       "    <tr>\n",
       "      <th>60120</th>\n",
       "      <td>Yes</td>\n",
       "      <td>10</td>\n",
       "      <td>0.661588</td>\n",
       "      <td>0</td>\n",
       "    </tr>\n",
       "    <tr>\n",
       "      <th>75899</th>\n",
       "      <td>No</td>\n",
       "      <td>6</td>\n",
       "      <td>0.500598</td>\n",
       "      <td>0</td>\n",
       "    </tr>\n",
       "    <tr>\n",
       "      <th>67557</th>\n",
       "      <td>No</td>\n",
       "      <td>2</td>\n",
       "      <td>0.340484</td>\n",
       "      <td>0</td>\n",
       "    </tr>\n",
       "  </tbody>\n",
       "</table>\n",
       "</div>"
      ],
      "text/plain": [
       "      Promotion Decile bin  Uplift score  purchase\n",
       "6264        Yes          8      0.557656         0\n",
       "41822        No          9      0.618133         0\n",
       "8569         No          6      0.501890         0\n",
       "41228        No          7      0.523865         0\n",
       "24896       Yes          4      0.413907         0\n",
       "45830       Yes          3      0.356000         0\n",
       "61302       Yes          3      0.386093         0\n",
       "60120       Yes         10      0.661588         0\n",
       "75899        No          6      0.500598         0\n",
       "67557        No          2      0.340484         0"
      ]
     },
     "execution_count": 37,
     "metadata": {},
     "output_type": "execute_result"
    }
   ],
   "source": [
    "valid_w_score[['Promotion', 'Decile bin', 'Uplift score', 'purchase']].head(10)"
   ]
  },
  {
   "cell_type": "markdown",
   "metadata": {},
   "source": [
    "Now do a groupby/mean of the purchase occurrence to get the rate of purchase within each decile. Need to do this separately for treatment and control groups."
   ]
  },
  {
   "cell_type": "code",
   "execution_count": 38,
   "metadata": {},
   "outputs": [],
   "source": [
    "mean_response_treatment = valid_w_score[validation_treatment_mask].groupby('Decile bin')['purchase'].mean()\n",
    "mean_response_control = valid_w_score[~validation_treatment_mask].groupby('Decile bin')['purchase'].mean()"
   ]
  },
  {
   "cell_type": "code",
   "execution_count": 39,
   "metadata": {},
   "outputs": [
    {
     "data": {
      "text/plain": [
       "Decile bin\n",
       "1     0.004932\n",
       "2     0.005862\n",
       "3     0.008264\n",
       "4     0.011455\n",
       "5     0.021357\n",
       "6     0.017857\n",
       "7     0.021864\n",
       "8     0.015134\n",
       "9     0.029630\n",
       "10    0.030857\n",
       "Name: purchase, dtype: float64"
      ]
     },
     "execution_count": 39,
     "metadata": {},
     "output_type": "execute_result"
    }
   ],
   "source": [
    "mean_response_treatment"
   ]
  },
  {
   "cell_type": "code",
   "execution_count": 40,
   "metadata": {},
   "outputs": [
    {
     "data": {
      "text/plain": [
       "Decile bin\n",
       "1     0.010204\n",
       "2     0.008363\n",
       "3     0.008149\n",
       "4     0.009639\n",
       "5     0.003464\n",
       "6     0.009379\n",
       "7     0.009581\n",
       "8     0.009674\n",
       "9     0.006818\n",
       "10    0.003727\n",
       "Name: purchase, dtype: float64"
      ]
     },
     "execution_count": 40,
     "metadata": {},
     "output_type": "execute_result"
    }
   ],
   "source": [
    "mean_response_control"
   ]
  },
  {
   "cell_type": "markdown",
   "metadata": {},
   "source": [
    "> the difference between those averages is taken for each decile\n",
    "\n",
    "Finally calculate the lift by subtracting these."
   ]
  },
  {
   "cell_type": "code",
   "execution_count": 41,
   "metadata": {},
   "outputs": [
    {
     "data": {
      "text/plain": [
       "Decile bin\n",
       "1    -0.005272\n",
       "2    -0.002502\n",
       "3     0.000115\n",
       "4     0.001816\n",
       "5     0.017893\n",
       "6     0.008478\n",
       "7     0.012283\n",
       "8     0.005460\n",
       "9     0.022811\n",
       "10    0.027130\n",
       "Name: purchase, dtype: float64"
      ]
     },
     "execution_count": 41,
     "metadata": {},
     "output_type": "execute_result"
    }
   ],
   "source": [
    "lift = mean_response_treatment - mean_response_control\n",
    "lift"
   ]
  },
  {
   "cell_type": "code",
   "execution_count": 42,
   "metadata": {},
   "outputs": [
    {
     "data": {
      "text/plain": [
       "Text(0.5, 1.0, 'Difference in purchase rate\\nbetween uplift score deciles of treatment and control group')"
      ]
     },
     "execution_count": 42,
     "metadata": {},
     "output_type": "execute_result"
    },
    {
     "data": {
      "image/png": "[encoded data removed]",
      "text/plain": [
       "<Figure size 1200x800 with 1 Axes>"
      ]
     },
     "metadata": {
      "needs_background": "light"
     },
     "output_type": "display_data"
    }
   ],
   "source": [
    "mpl.rcParams['figure.dpi'] = 200\n",
    "lift.plot.bar()\n",
    "plt.title('Difference in purchase rate\\nbetween uplift score deciles of treatment and control group')"
   ]
  },
  {
   "cell_type": "markdown",
   "metadata": {},
   "source": [
    "The lifts in these various deciles would, I think, be compared to the difference in purchase rates between all people who got the promotion and all who didn't, which would be the result of randomly offering the promotion to everyone."
   ]
  },
  {
   "cell_type": "code",
   "execution_count": 43,
   "metadata": {},
   "outputs": [
    {
     "data": {
      "text/plain": [
       "Promotion\n",
       "No     0.007907\n",
       "Yes    0.016720\n",
       "Name: purchase, dtype: float64"
      ]
     },
     "execution_count": 43,
     "metadata": {},
     "output_type": "execute_result"
    }
   ],
   "source": [
    "purchase_rate_by_promotion = valid.groupby('Promotion')['purchase'].mean()\n",
    "purchase_rate_by_promotion"
   ]
  },
  {
   "cell_type": "code",
   "execution_count": 44,
   "metadata": {},
   "outputs": [
    {
     "data": {
      "text/plain": [
       "0.00881349081506308"
      ]
     },
     "execution_count": 44,
     "metadata": {},
     "output_type": "execute_result"
    }
   ],
   "source": [
    "purchase_rate_by_promotion[1] - purchase_rate_by_promotion[0]"
   ]
  },
  {
   "cell_type": "markdown",
   "metadata": {},
   "source": [
    "A cumulative curve or related metric, as described in the reference, seems like a good way to get at how much lift would be obtained by targeting people starting with the highest lift scores and proceeding down. Layering on a financial component to this would be great.\n",
    "\n",
    "Following the other evaluation approaches described Gutierrez and Gerardy,\n",
    "\n",
    "## Cumulative uplift decile chart"
   ]
  },
  {
   "cell_type": "code",
   "execution_count": 45,
   "metadata": {},
   "outputs": [
    {
     "data": {
      "text/plain": [
       "[10, 9, 8, 7, 6, 5, 4, 3, 2, 1]"
      ]
     },
     "execution_count": 45,
     "metadata": {},
     "output_type": "execute_result"
    }
   ],
   "source": [
    "decile_labels[::-1]"
   ]
  },
  {
   "cell_type": "markdown",
   "metadata": {},
   "source": [
    "This indexing `[::-1]` reverses a list."
   ]
  },
  {
   "cell_type": "code",
   "execution_count": 46,
   "metadata": {},
   "outputs": [],
   "source": [
    "treatment_mean = []\n",
    "control_mean = []\n",
    "treatment_sum = []\n",
    "control_sum = []\n",
    "treatment_n = []\n",
    "control_n = []\n",
    "\n",
    "for decile_countdown in decile_labels[::-1]:\n",
    "    decile_list = list(range(decile_countdown,11))\n",
    "    decile_mask = valid_w_score['Decile bin'].isin(decile_list)\n",
    "    \n",
    "    treatment_mean.append(valid_w_score.loc[validation_treatment_mask & decile_mask, 'purchase'].mean())\n",
    "    control_mean.append(valid_w_score.loc[~validation_treatment_mask & decile_mask, 'purchase'].mean())\n",
    "    \n",
    "    treatment_sum.append(valid_w_score.loc[validation_treatment_mask & decile_mask, 'purchase'].sum())\n",
    "    control_sum.append(valid_w_score.loc[~validation_treatment_mask & decile_mask, 'purchase'].sum())\n",
    "    \n",
    "    treatment_n.append(valid_w_score.loc[validation_treatment_mask & decile_mask, 'purchase'].count())\n",
    "    control_n.append(valid_w_score.loc[~validation_treatment_mask & decile_mask, 'purchase'].count())\n",
    "    "
   ]
  },
  {
   "cell_type": "code",
   "execution_count": 47,
   "metadata": {},
   "outputs": [],
   "source": [
    "cumulative_lift = np.array(treatment_mean) - np.array(control_mean)"
   ]
  },
  {
   "cell_type": "code",
   "execution_count": 48,
   "metadata": {},
   "outputs": [],
   "source": [
    "cumulative_lift_series = pd.Series(data=cumulative_lift, index=decile_labels[::-1], name='Cumulative lift')"
   ]
  },
  {
   "cell_type": "code",
   "execution_count": 49,
   "metadata": {},
   "outputs": [
    {
     "data": {
      "text/plain": [
       "10    0.027130\n",
       "9     0.024926\n",
       "8     0.018390\n",
       "7     0.016849\n",
       "6     0.015185\n",
       "5     0.015671\n",
       "4     0.013645\n",
       "3     0.011951\n",
       "2     0.010335\n",
       "1     0.008813\n",
       "Name: Cumulative lift, dtype: float64"
      ]
     },
     "execution_count": 49,
     "metadata": {},
     "output_type": "execute_result"
    }
   ],
   "source": [
    "cumulative_lift_series"
   ]
  },
  {
   "cell_type": "markdown",
   "metadata": {},
   "source": [
    "Check that the final decile gives the expected lift from marketing to everyone:"
   ]
  },
  {
   "cell_type": "code",
   "execution_count": 50,
   "metadata": {},
   "outputs": [
    {
     "data": {
      "text/plain": [
       "0.00881349081506308"
      ]
     },
     "execution_count": 50,
     "metadata": {},
     "output_type": "execute_result"
    }
   ],
   "source": [
    "lift_from_all = \\\n",
    "valid_w_score.loc[validation_treatment_mask, 'purchase'].mean()\\\n",
    "- valid_w_score.loc[~validation_treatment_mask, 'purchase'].mean()\n",
    "\n",
    "lift_from_all"
   ]
  },
  {
   "cell_type": "code",
   "execution_count": 51,
   "metadata": {},
   "outputs": [
    {
     "data": {
      "text/plain": [
       "Text(0.5, 1.0, 'Cumulative uplift decile chart')"
      ]
     },
     "execution_count": 51,
     "metadata": {},
     "output_type": "execute_result"
    },
    {
     "data": {
      "image/png": "[encoded data removed]",
      "text/plain": [
       "<Figure size 1200x800 with 1 Axes>"
      ]
     },
     "metadata": {
      "needs_background": "light"
     },
     "output_type": "display_data"
    }
   ],
   "source": [
    "cumulative_lift_series.plot.bar()\n",
    "plt.title('Cumulative uplift decile chart')"
   ]
  },
  {
   "cell_type": "markdown",
   "metadata": {},
   "source": [
    "# Cumulative gain chart"
   ]
  },
  {
   "cell_type": "code",
   "execution_count": 52,
   "metadata": {},
   "outputs": [],
   "source": [
    "cumulative_gain = \\\n",
    "((np.array(treatment_sum) / np.array(treatment_n))\n",
    " - (np.array(control_sum) / np.array(control_n))) \\\n",
    "* (np.array(treatment_n) + np.array(control_n))"
   ]
  },
  {
   "cell_type": "code",
   "execution_count": 53,
   "metadata": {},
   "outputs": [
    {
     "data": {
      "text/plain": [
       "array([ 45.57913043,  84.        ,  92.97840804, 113.90198166,\n",
       "       128.36231584, 158.50801076, 161.25716907, 161.62129121,\n",
       "       157.23158283, 149.00968921])"
      ]
     },
     "execution_count": 53,
     "metadata": {},
     "output_type": "execute_result"
    }
   ],
   "source": [
    "cumulative_gain"
   ]
  },
  {
   "cell_type": "markdown",
   "metadata": {},
   "source": [
    "Check that the final decile is the lift, in terms of number of people, from marking to everyone."
   ]
  },
  {
   "cell_type": "code",
   "execution_count": 54,
   "metadata": {},
   "outputs": [
    {
     "data": {
      "text/plain": [
       "149.0096892102715"
      ]
     },
     "execution_count": 54,
     "metadata": {},
     "output_type": "execute_result"
    }
   ],
   "source": [
    "lift_from_all * valid_w_score.shape[0]"
   ]
  },
  {
   "cell_type": "code",
   "execution_count": 55,
   "metadata": {},
   "outputs": [],
   "source": [
    "cumulative_gain_series = \\\n",
    "pd.Series(data=cumulative_gain, index=decile_labels[::-1], name='Cumulative gain')"
   ]
  },
  {
   "cell_type": "code",
   "execution_count": 56,
   "metadata": {},
   "outputs": [
    {
     "data": {
      "text/plain": [
       "Text(0.5, 1.0, 'Cumulative gain decile chart')"
      ]
     },
     "execution_count": 56,
     "metadata": {},
     "output_type": "execute_result"
    },
    {
     "data": {
      "image/png": "[encoded data removed]",
      "text/plain": [
       "<Figure size 1200x800 with 1 Axes>"
      ]
     },
     "metadata": {
      "needs_background": "light"
     },
     "output_type": "display_data"
    }
   ],
   "source": [
    "cumulative_gain_series.plot.bar()\n",
    "plt.title('Cumulative gain decile chart')"
   ]
  },
  {
   "cell_type": "markdown",
   "metadata": {},
   "source": [
    "The text states that \n",
    ">We can thus choose the decile that maximizes the gain as the limit of the population to be targeted\n",
    "\n",
    "This seems true if finances are not considered. A probably better way to select the limit of the population to be targeted is via a cost/benefit analysis."
   ]
  },
  {
   "cell_type": "markdown",
   "metadata": {},
   "source": [
    "### Cumulative gain curve (modified Qini curve)"
   ]
  },
  {
   "cell_type": "code",
   "execution_count": 57,
   "metadata": {},
   "outputs": [
    {
     "data": {
      "text/html": [
       "<div>\n",
       "<style scoped>\n",
       "    .dataframe tbody tr th:only-of-type {\n",
       "        vertical-align: middle;\n",
       "    }\n",
       "\n",
       "    .dataframe tbody tr th {\n",
       "        vertical-align: top;\n",
       "    }\n",
       "\n",
       "    .dataframe thead th {\n",
       "        text-align: right;\n",
       "    }\n",
       "</style>\n",
       "<table border=\"1\" class=\"dataframe\">\n",
       "  <thead>\n",
       "    <tr style=\"text-align: right;\">\n",
       "      <th></th>\n",
       "      <th>ID</th>\n",
       "      <th>Promotion</th>\n",
       "      <th>purchase</th>\n",
       "      <th>V1</th>\n",
       "      <th>V2</th>\n",
       "      <th>V3</th>\n",
       "      <th>V4</th>\n",
       "      <th>V5</th>\n",
       "      <th>V6</th>\n",
       "      <th>V7</th>\n",
       "      <th>target</th>\n",
       "      <th>Uplift score</th>\n",
       "      <th>Decile bin</th>\n",
       "    </tr>\n",
       "  </thead>\n",
       "  <tbody>\n",
       "    <tr>\n",
       "      <th>63907</th>\n",
       "      <td>95205</td>\n",
       "      <td>Yes</td>\n",
       "      <td>0</td>\n",
       "      <td>2</td>\n",
       "      <td>29.866117</td>\n",
       "      <td>0.047006</td>\n",
       "      <td>2</td>\n",
       "      <td>3</td>\n",
       "      <td>4</td>\n",
       "      <td>2</td>\n",
       "      <td>False</td>\n",
       "      <td>0.727585</td>\n",
       "      <td>10</td>\n",
       "    </tr>\n",
       "    <tr>\n",
       "      <th>36957</th>\n",
       "      <td>54988</td>\n",
       "      <td>Yes</td>\n",
       "      <td>0</td>\n",
       "      <td>1</td>\n",
       "      <td>30.263528</td>\n",
       "      <td>-0.559039</td>\n",
       "      <td>2</td>\n",
       "      <td>3</td>\n",
       "      <td>2</td>\n",
       "      <td>2</td>\n",
       "      <td>False</td>\n",
       "      <td>0.727585</td>\n",
       "      <td>10</td>\n",
       "    </tr>\n",
       "    <tr>\n",
       "      <th>19234</th>\n",
       "      <td>28627</td>\n",
       "      <td>Yes</td>\n",
       "      <td>0</td>\n",
       "      <td>2</td>\n",
       "      <td>29.515353</td>\n",
       "      <td>-0.991928</td>\n",
       "      <td>2</td>\n",
       "      <td>3</td>\n",
       "      <td>4</td>\n",
       "      <td>2</td>\n",
       "      <td>False</td>\n",
       "      <td>0.727585</td>\n",
       "      <td>10</td>\n",
       "    </tr>\n",
       "    <tr>\n",
       "      <th>74824</th>\n",
       "      <td>111658</td>\n",
       "      <td>No</td>\n",
       "      <td>0</td>\n",
       "      <td>0</td>\n",
       "      <td>30.091188</td>\n",
       "      <td>-0.039572</td>\n",
       "      <td>2</td>\n",
       "      <td>3</td>\n",
       "      <td>1</td>\n",
       "      <td>2</td>\n",
       "      <td>False</td>\n",
       "      <td>0.727585</td>\n",
       "      <td>10</td>\n",
       "    </tr>\n",
       "    <tr>\n",
       "      <th>79710</th>\n",
       "      <td>118964</td>\n",
       "      <td>No</td>\n",
       "      <td>0</td>\n",
       "      <td>1</td>\n",
       "      <td>30.346373</td>\n",
       "      <td>-0.732194</td>\n",
       "      <td>2</td>\n",
       "      <td>3</td>\n",
       "      <td>1</td>\n",
       "      <td>1</td>\n",
       "      <td>False</td>\n",
       "      <td>0.727585</td>\n",
       "      <td>10</td>\n",
       "    </tr>\n",
       "  </tbody>\n",
       "</table>\n",
       "</div>"
      ],
      "text/plain": [
       "           ID Promotion  purchase  V1         V2        V3  V4  V5  V6  V7  \\\n",
       "63907   95205       Yes         0   2  29.866117  0.047006   2   3   4   2   \n",
       "36957   54988       Yes         0   1  30.263528 -0.559039   2   3   2   2   \n",
       "19234   28627       Yes         0   2  29.515353 -0.991928   2   3   4   2   \n",
       "74824  111658        No         0   0  30.091188 -0.039572   2   3   1   2   \n",
       "79710  118964        No         0   1  30.346373 -0.732194   2   3   1   1   \n",
       "\n",
       "       target  Uplift score Decile bin  \n",
       "63907   False      0.727585         10  \n",
       "36957   False      0.727585         10  \n",
       "19234   False      0.727585         10  \n",
       "74824   False      0.727585         10  \n",
       "79710   False      0.727585         10  "
      ]
     },
     "execution_count": 57,
     "metadata": {},
     "output_type": "execute_result"
    }
   ],
   "source": [
    "sorted_valid = valid_w_score.sort_values('Uplift score', ascending=False)\n",
    "sorted_valid.head()"
   ]
  },
  {
   "cell_type": "code",
   "execution_count": 58,
   "metadata": {},
   "outputs": [
    {
     "data": {
      "text/plain": [
       "3"
      ]
     },
     "execution_count": 58,
     "metadata": {},
     "output_type": "execute_result"
    }
   ],
   "source": [
    "(sorted_valid.iloc[0:4,:]['Promotion'] == 'Yes').sum()"
   ]
  },
  {
   "cell_type": "code",
   "execution_count": 59,
   "metadata": {},
   "outputs": [
    {
     "data": {
      "text/plain": [
       "(16907, 13)"
      ]
     },
     "execution_count": 59,
     "metadata": {},
     "output_type": "execute_result"
    }
   ],
   "source": [
    "sorted_valid.shape"
   ]
  },
  {
   "cell_type": "code",
   "execution_count": 60,
   "metadata": {},
   "outputs": [
    {
     "name": "stderr",
     "output_type": "stream",
     "text": [
      "/Users/stephen.klosterman/Documents/Virtual_Envs/python3/lib/python3.7/site-packages/ipykernel_launcher.py:18: RuntimeWarning: invalid value encountered in long_scalars\n"
     ]
    },
    {
     "name": "stdout",
     "output_type": "stream",
     "text": [
      "0\n",
      "1000\n",
      "2000\n",
      "3000\n",
      "4000\n",
      "5000\n",
      "6000\n",
      "7000\n",
      "8000\n",
      "9000\n",
      "10000\n",
      "11000\n",
      "12000\n",
      "13000\n",
      "14000\n",
      "15000\n",
      "16000\n",
      "CPU times: user 1min 31s, sys: 215 ms, total: 1min 32s\n",
      "Wall time: 1min 32s\n"
     ]
    }
   ],
   "source": [
    "%%time\n",
    "y_t = []\n",
    "y_c = []\n",
    "n_t = []\n",
    "n_c = []\n",
    "gain_curve = []\n",
    "for row_ix in range(sorted_valid.shape[0]):\n",
    "    y_t.append(\n",
    "        ((sorted_valid.iloc[0:row_ix,:]['Promotion'] == 'Yes') &\n",
    "         (sorted_valid.iloc[0:row_ix,:]['purchase'] == 1)).sum()\n",
    "    )\n",
    "    y_c.append(\n",
    "        ((sorted_valid.iloc[0:row_ix,:]['Promotion'] == 'No') &\n",
    "         (sorted_valid.iloc[0:row_ix,:]['purchase'] == 1)).sum()\n",
    "    )\n",
    "    n_t.append((sorted_valid.iloc[0:row_ix,:]['Promotion'] == 'Yes').sum())\n",
    "    n_c.append((sorted_valid.iloc[0:row_ix,:]['Promotion'] == 'No').sum())\n",
    "    \n",
    "    gain_curve.append( ((y_t[-1]/n_t[-1]) - (y_c[-1]/n_c[-1])) * (n_t[-1] + n_c[-1]) )\n",
    "    \n",
    "    if row_ix % 1000 == 0:\n",
    "        print(row_ix)\n",
    "#Wall time: 1min 49s at home"
   ]
  },
  {
   "cell_type": "markdown",
   "metadata": {},
   "source": [
    "Probably a divide by zero error early on."
   ]
  },
  {
   "cell_type": "code",
   "execution_count": 61,
   "metadata": {},
   "outputs": [
    {
     "data": {
      "text/plain": [
       "[<matplotlib.lines.Line2D at 0x132c672d0>]"
      ]
     },
     "execution_count": 61,
     "metadata": {},
     "output_type": "execute_result"
    },
    {
     "data": {
      "image/png": "[encoded data removed]",
      "text/plain": [
       "<Figure size 1200x800 with 1 Axes>"
      ]
     },
     "metadata": {
      "needs_background": "light"
     },
     "output_type": "display_data"
    }
   ],
   "source": [
    "plt.plot(gain_curve)"
   ]
  },
  {
   "cell_type": "markdown",
   "metadata": {},
   "source": [
    "Neat. All the evidence here points to there not being a particularly strong sleeping dog effect in this data set."
   ]
  },
  {
   "cell_type": "markdown",
   "metadata": {},
   "source": [
    "### Area under the gain curve\n",
    "The area under the gain curve can be calculated from as a general indicator of the performance of an uplift model. This can be compared between different modeling approaches, similar how the area under the ROC curve is commonly used for binary classifiers."
   ]
  },
  {
   "cell_type": "markdown",
   "metadata": {},
   "source": [
    "Get rid of the first few NaNs."
   ]
  },
  {
   "cell_type": "code",
   "execution_count": 86,
   "metadata": {},
   "outputs": [
    {
     "data": {
      "text/plain": [
       "array([nan, nan, nan, nan,  0.,  0.,  0.,  0.])"
      ]
     },
     "execution_count": 86,
     "metadata": {},
     "output_type": "execute_result"
    }
   ],
   "source": [
    "gain_curve[:8]"
   ]
  },
  {
   "cell_type": "code",
   "execution_count": 87,
   "metadata": {},
   "outputs": [
    {
     "data": {
      "text/plain": [
       "1989093.426401922"
      ]
     },
     "execution_count": 87,
     "metadata": {},
     "output_type": "execute_result"
    }
   ],
   "source": [
    "auc(x=range(len(gain_curve[4:])), y = gain_curve[4:])"
   ]
  },
  {
   "cell_type": "markdown",
   "metadata": {},
   "source": [
    "This is not necessarily interpretable by itself, as the AUC of the ROC is, but it could be used to compare models."
   ]
  },
  {
   "cell_type": "markdown",
   "metadata": {},
   "source": [
    "### Cost benefit analysis\n",
    "\n",
    "A more financially relevant way to determine the effect of the model on business operations is a cost-benefit analysis. This may or may not indicate the same number of customers to send the promotion to, as the financially unaware Qini curve.\n",
    "\n",
    "A simple way to do this would be to look at the profit (revenue minus cost) of targeting the top n scorers in the validation set. If we assume the revenue of a sale is \\\\$10 and the cost of offering the promotion is \\\\$0.25 (note I chose a larger cost than the //$0.15 in the data challenge because it creates a clearer optimization), we can find the optimal number of people to target by using the results from the gain curve.\n",
    "\n",
    "Given the variables created above, we can calcuate profit as follows:"
   ]
  },
  {
   "cell_type": "code",
   "execution_count": 62,
   "metadata": {},
   "outputs": [],
   "source": [
    "revenue = (np.array(y_t) + np.array(y_c)) * 10\n",
    "cost = np.array(n_t) * 0.25\n",
    "profit = revenue - cost"
   ]
  },
  {
   "cell_type": "code",
   "execution_count": 63,
   "metadata": {},
   "outputs": [
    {
     "data": {
      "text/plain": [
       "Text(0, 0.5, 'Profit ($)')"
      ]
     },
     "execution_count": 63,
     "metadata": {},
     "output_type": "execute_result"
    },
    {
     "data": {
      "image/png": "[encoded data removed]",
      "text/plain": [
       "<Figure size 1200x800 with 1 Axes>"
      ]
     },
     "metadata": {
      "needs_background": "light"
     },
     "output_type": "display_data"
    }
   ],
   "source": [
    "plt.plot(profit)\n",
    "plt.grid()\n",
    "plt.ylabel('Profit ($)')"
   ]
  },
  {
   "cell_type": "markdown",
   "metadata": {},
   "source": [
    "It appears that the procedure of ranking people on their uplift score, then offering promotions to the highest scorers, is profitable up to about XXX people. Beyond that, the cost of the promotion outweighs the chances of purchase.\n",
    "\n",
    "Other financial analysis methods include determining the incremental revenue"
   ]
  },
  {
   "cell_type": "markdown",
   "metadata": {},
   "source": [
    "# Feature selection\n",
    "\n",
    "In this contrived example, we were presented with a small number of explanatory variables and performed no feature selection. In reality, feature selection is an important part of the predictive modeling workflow.\n",
    "\n",
    "The target encoding used above simplifies the task of feature selection, since the binary classification model (e.g. XGBoost) can be used to rank features in terms of feature important, or mean absolute SHAP value.\n",
    "\n",
    "When not using an encoding such as this, for example in the two-model approach, a more standard method for variable prescreening in uplift modeling builds on the concepts of weight of evidence (WOE) and information value (IV). These concepts have been traditionally used to perform univariate feature selection in the context of binary classification. WOE and IV rely on binning values of predictors, so they present a unified framework to consider continuous and categorial features, as well as capturing linear and non-linear effects and handling missing values.\n",
    "\n",
    "To extend these concepts to uplift modeling and account for the treatment effect, the techniques of net weight of evidence (NWOE) and net information value (NIV) are used (https://multithreaded.stitchfix.com/blog/2015/08/13/weight-of-evidence/, https://support.sas.com/resources/papers/proceedings13/096-2013.pdf, and possibly https://www.kaggle.com/pavansanagapati/weight-of-evidence-woe-information-value-iv or https://medium.com/@sundarstyles89/weight-of-evidence-and-information-value-using-python-6f05072e83eb)\n",
    "\n",
    "An opportunity here is to implement NWOE and NIV in python, which does not appear to have been done (as it has been in SAS and I think R).\n",
    "\n",
    "This would enable an independent point of comparison to feature importances or SHAPs from XGBoost above."
   ]
  },
  {
   "cell_type": "code",
   "execution_count": null,
   "metadata": {},
   "outputs": [],
   "source": []
  },
  {
   "cell_type": "markdown",
   "metadata": {},
   "source": [
    "# Other modeling approaches\n",
    "Do? Maybe just describe what it is, along with other approaches:\n",
    "- Transformations to binary target, then use binary classification model\n",
    "- Two models\n",
    "- One model with treatment variable, which would be scored twice\n",
    "- Multiclass model using the 4 classes directly, or a transformed outcome changing to a regression model\n",
    "- Tree-growing algorithms designed to optimize for uplift"
   ]
  },
  {
   "cell_type": "markdown",
   "metadata": {},
   "source": [
    "# Other concerns\n",
    "- Multivariate testing"
   ]
  },
  {
   "cell_type": "code",
   "execution_count": null,
   "metadata": {},
   "outputs": [],
   "source": []
  },
  {
   "cell_type": "code",
   "execution_count": null,
   "metadata": {},
   "outputs": [],
   "source": []
  }
 ],
 "metadata": {
  "kernelspec": {
   "display_name": "Python 3",
   "language": "python",
   "name": "python3"
  },
  "language_info": {
   "codemirror_mode": {
    "name": "ipython",
    "version": 3
   },
   "file_extension": ".py",
   "mimetype": "text/x-python",
   "name": "python",
   "nbconvert_exporter": "python",
   "pygments_lexer": "ipython3",
   "version": "3.7.5"
  }
 },
 "nbformat": 4,
 "nbformat_minor": 2
}
