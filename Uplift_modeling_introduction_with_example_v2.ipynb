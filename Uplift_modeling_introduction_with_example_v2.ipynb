{
 "cells": [
  {
   "cell_type": "markdown",
   "metadata": {},
   "source": [
    "# Uplift modeling introduction with example\n",
    "Stephen Klosterman"
   ]
  },
  {
   "cell_type": "code",
   "execution_count": 113,
   "metadata": {
    "scrolled": true
   },
   "outputs": [],
   "source": [
    "# load packages\n",
    "import numpy as np\n",
    "import pandas as pd\n",
    "\n",
    "from statsmodels.stats.power import NormalIndPower\n",
    "from statsmodels.stats.proportion import proportion_effectsize\n",
    "# from statsmodels.stats.power import TTestIndPower\n",
    "\n",
    "import sklearn as sk\n",
    "from sklearn.metrics import auc\n",
    "import xgboost as xgb\n",
    "\n",
    "import matplotlib as mpl\n",
    "import matplotlib.pyplot as plt\n",
    "%matplotlib inline\n",
    "\n",
    "import copy"
   ]
  },
  {
   "cell_type": "markdown",
   "metadata": {},
   "source": [
    "- [Intro](#Intro)\n",
    "    - [What is it?](#What-is-it?)\n",
    "    - [Why do it?](#Why-do-it?)\n",
    "    - [Connections to A/B testing](#Connections)\n",
    "    - [Why does it matter at Tala?](#Why-does-it-matter)\n",
    "- [Example dataset](#Example)\n",
    "- [Analyze experimental results](#Analyze)\n",
    "- [Build a simple uplift model using a transformed target](#Build)\n",
    "    - [Train XGBoost](#Train)\n",
    "- [Model evaluation](#Model-evaluation)\n",
    "    - [Uplift decile chart](#decile-chart)\n",
    "    - [Cumulative uplift decile chart](#Cumulative-uplift)\n",
    "    - [Cumulative gain chart](#Cumulative-gain)\n",
    "    - [Cumulative gain curve (modified Qini curve)](#gain-curve)\n",
    "    - [Area under the gain curve](#area-under)\n",
    "    - [Cost benefit analysis](#cost-benefit)\n",
    "- [Other modeling approaches](#Other)\n",
    "    - [Multivariate testing](#Multivariate)\n",
    "- [Feature selection](#Feature)"
   ]
  },
  {
   "cell_type": "markdown",
   "metadata": {},
   "source": [
    "# Intro <a class=\"anchor\" id=\"Intro\"></a>\n",
    "### What is it? <a class=\"anchor\" id=\"What-is-it?\"></a>\n",
    "Uplift modeling is a predictive modeling approach to identifying which customers are most likely to respond to a promotion. This modeling technique goes by several names, including net lift and incremental response modeling.\n",
    "\n",
    "### Why do it? <a class=\"anchor\" id=\"Why-do-it?\"></a>\n",
    "Uplift modeling is useful when considering an action, perhaps with a cost, that affects customers in hopes of deriving some benefit. In marketing, this is often characterized as a coupon that might be offered. The coupon has a cost in the form of the lost revenue, due to the offered discount. However, if the offer convinces certain customers to make the purchase, who otherwise wouldn't have, it may be worth it. __Identifying these incremental customers is the goal of uplift modeling.__\n",
    "\n",
    "In general customers can be broken into four groups, in terms of their behavior when receiving a promotion or not. If the promotion is called a \"treatment\" and the desired behavior is a purchase, the situation can be visualized like this:\n",
    "\n",
    "<img src=\"https://storage.googleapis.com/wf-blogs-engineering-media/2018/10/e45e2d97-confmatrix_alt.png\" alt=\"Drawing\" style=\"width: 400px;\"/>\n",
    "\n",
    "[Yi and Frost, 2018](https://tech.wayfair.com/data-science/2018/10/pylift-a-fast-python-package-for-uplift-modeling)\n",
    "\n",
    "Uplift modeling seeks to identify the \"persuadables\" and avoid bothering the \"sleeping dogs\", or those who would react negatively to the action, if they exist."
   ]
  },
  {
   "cell_type": "markdown",
   "metadata": {},
   "source": [
    "### Connections to A/B testing <a class=\"anchor\" id=\"Connections\"></a>\n",
    "Building an uplift model requires a specific type of data: data from a randomized experiment, often called an A/B test if only one treatment is considered.\n",
    "\n",
    ">Estimating customer uplift is both a Causal Inference and a Machine Learning problem. It is a causal inference problem because one needs to estimate the difference between two outcomes that are mutually exclusive for an individual (either person *i* receives a promotional e-mail or does not receive it). To overcome this counter-factual nature, uplift modeling crucially relies on randomized experiments, i.e. the random assignment of customers to either receive the treatment (the treatment group) or not (the control group). Uplift modeling is also a machine learning problem as one needs to train different models and select the one that yields the most reliable uplift prediction according to some performance metrics. This requires sensible cross-validation strategies along with potential feature engineering.\n",
    "\n",
    "[Gutierrez and Gerardy, 2016](http://proceedings.mlr.press/v67/gutierrez17a/gutierrez17a.pdf)\n",
    "\n",
    "The results of an A/B test, such as offering a promotion, should indicate that the action has the desired effect, such as increasing sales. Once this has been established, an uplift model can be built to make a data-driven decision of __which customers to take the action on__, as opposed to taking a potentially costly action on customers at random.\n",
    "\n",
    "### Why does it matter at Tala? <a class=\"anchor\" id=\"Why-does-it-matter\"></a>\n",
    "Potential use cases include any costly offer or intervention, expected to increase revenue in some way, or actions that may not have a cost, but nonetheless may have an undesirable sleeping dog effect.\n",
    "- Collections outreaches\n",
    "    - Phone calls: have a cost to Tala, in the form of call center operations. The desired benefit is that more customers will repay their loans, as a result of receiving a collections phone call.\n",
    "    - Digital channels\n",
    "- Lifecycle messaging\n",
    "    - Little treatment expense but may deter customers\n",
    "- Other marketing campaigns\n",
    "    - Classic use case of uplift modeling"
   ]
  },
  {
   "cell_type": "markdown",
   "metadata": {},
   "source": [
    "# Example dataset <a class=\"anchor\" id=\"Example\"></a>\n",
    "These data come from a Starbucks data challenge, communicated via a Nanodegree in data science from Udacity, and then via a [blog post](https://medium.com/datadriveninvestor/simple-machine-learning-techniques-to-improve-your-marketing-strategy-demystifying-uplift-models-dc4fb3f927a2)\n",
    "\n",
    "- `ID` = customer ID\n",
    "- `Promotion` = Yes or No, did the customer receive a promotion\n",
    "- `purchase` = 1 or 0, did the customer make a purchase\n",
    "- `V1` - `V7` = features\n",
    "\n",
    "The goal is to create a model to maximize incremental profit from selectively offering the promotion, which has a cost. There are specific goals laid out in the data challenge but here I will use evaluation metrics from a publication: http://proceedings.mlr.press/v67/gutierrez17a/gutierrez17a.pdf"
   ]
  },
  {
   "cell_type": "code",
   "execution_count": 3,
   "metadata": {},
   "outputs": [
    {
     "data": {
      "text/html": [
       "<div>\n",
       "<style scoped>\n",
       "    .dataframe tbody tr th:only-of-type {\n",
       "        vertical-align: middle;\n",
       "    }\n",
       "\n",
       "    .dataframe tbody tr th {\n",
       "        vertical-align: top;\n",
       "    }\n",
       "\n",
       "    .dataframe thead th {\n",
       "        text-align: right;\n",
       "    }\n",
       "</style>\n",
       "<table border=\"1\" class=\"dataframe\">\n",
       "  <thead>\n",
       "    <tr style=\"text-align: right;\">\n",
       "      <th></th>\n",
       "      <th>ID</th>\n",
       "      <th>Promotion</th>\n",
       "      <th>purchase</th>\n",
       "      <th>V1</th>\n",
       "      <th>V2</th>\n",
       "      <th>V3</th>\n",
       "      <th>V4</th>\n",
       "      <th>V5</th>\n",
       "      <th>V6</th>\n",
       "      <th>V7</th>\n",
       "    </tr>\n",
       "  </thead>\n",
       "  <tbody>\n",
       "    <tr>\n",
       "      <td>0</td>\n",
       "      <td>1</td>\n",
       "      <td>No</td>\n",
       "      <td>0</td>\n",
       "      <td>2</td>\n",
       "      <td>30.443518</td>\n",
       "      <td>-1.165083</td>\n",
       "      <td>1</td>\n",
       "      <td>1</td>\n",
       "      <td>3</td>\n",
       "      <td>2</td>\n",
       "    </tr>\n",
       "    <tr>\n",
       "      <td>1</td>\n",
       "      <td>3</td>\n",
       "      <td>No</td>\n",
       "      <td>0</td>\n",
       "      <td>3</td>\n",
       "      <td>32.159350</td>\n",
       "      <td>-0.645617</td>\n",
       "      <td>2</td>\n",
       "      <td>3</td>\n",
       "      <td>2</td>\n",
       "      <td>2</td>\n",
       "    </tr>\n",
       "    <tr>\n",
       "      <td>2</td>\n",
       "      <td>4</td>\n",
       "      <td>No</td>\n",
       "      <td>0</td>\n",
       "      <td>2</td>\n",
       "      <td>30.431659</td>\n",
       "      <td>0.133583</td>\n",
       "      <td>1</td>\n",
       "      <td>1</td>\n",
       "      <td>4</td>\n",
       "      <td>2</td>\n",
       "    </tr>\n",
       "    <tr>\n",
       "      <td>3</td>\n",
       "      <td>5</td>\n",
       "      <td>No</td>\n",
       "      <td>0</td>\n",
       "      <td>0</td>\n",
       "      <td>26.588914</td>\n",
       "      <td>-0.212728</td>\n",
       "      <td>2</td>\n",
       "      <td>1</td>\n",
       "      <td>4</td>\n",
       "      <td>2</td>\n",
       "    </tr>\n",
       "    <tr>\n",
       "      <td>4</td>\n",
       "      <td>8</td>\n",
       "      <td>Yes</td>\n",
       "      <td>0</td>\n",
       "      <td>3</td>\n",
       "      <td>28.044332</td>\n",
       "      <td>-0.385883</td>\n",
       "      <td>1</td>\n",
       "      <td>1</td>\n",
       "      <td>2</td>\n",
       "      <td>2</td>\n",
       "    </tr>\n",
       "  </tbody>\n",
       "</table>\n",
       "</div>"
      ],
      "text/plain": [
       "   ID Promotion  purchase  V1         V2        V3  V4  V5  V6  V7\n",
       "0   1        No         0   2  30.443518 -1.165083   1   1   3   2\n",
       "1   3        No         0   3  32.159350 -0.645617   2   3   2   2\n",
       "2   4        No         0   2  30.431659  0.133583   1   1   4   2\n",
       "3   5        No         0   0  26.588914 -0.212728   2   1   4   2\n",
       "4   8       Yes         0   3  28.044332 -0.385883   1   1   2   2"
      ]
     },
     "execution_count": 3,
     "metadata": {},
     "output_type": "execute_result"
    }
   ],
   "source": [
    "# load in the data\n",
    "train_data = pd.read_csv('./training.csv')\n",
    "train_data.head()"
   ]
  },
  {
   "cell_type": "code",
   "execution_count": 4,
   "metadata": {},
   "outputs": [
    {
     "name": "stdout",
     "output_type": "stream",
     "text": [
      "<class 'pandas.core.frame.DataFrame'>\n",
      "RangeIndex: 84534 entries, 0 to 84533\n",
      "Data columns (total 10 columns):\n",
      "ID           84534 non-null int64\n",
      "Promotion    84534 non-null object\n",
      "purchase     84534 non-null int64\n",
      "V1           84534 non-null int64\n",
      "V2           84534 non-null float64\n",
      "V3           84534 non-null float64\n",
      "V4           84534 non-null int64\n",
      "V5           84534 non-null int64\n",
      "V6           84534 non-null int64\n",
      "V7           84534 non-null int64\n",
      "dtypes: float64(2), int64(7), object(1)\n",
      "memory usage: 6.4+ MB\n"
     ]
    }
   ],
   "source": [
    "train_data.info()"
   ]
  },
  {
   "cell_type": "code",
   "execution_count": 5,
   "metadata": {},
   "outputs": [],
   "source": [
    "# # Unused here, but in a real project this would be used after model development was essentially done.\n",
    "# test_data = pd.read_csv('./Test.csv')\n",
    "# test_data.head()"
   ]
  },
  {
   "cell_type": "code",
   "execution_count": 6,
   "metadata": {},
   "outputs": [],
   "source": [
    "# test_data.info()"
   ]
  },
  {
   "cell_type": "markdown",
   "metadata": {},
   "source": [
    "# Analyze experimental results <a class=\"anchor\" id=\"Analyze\"></a>"
   ]
  },
  {
   "cell_type": "markdown",
   "metadata": {},
   "source": [
    "What was the overall purchase rate?"
   ]
  },
  {
   "cell_type": "code",
   "execution_count": 7,
   "metadata": {},
   "outputs": [
    {
     "data": {
      "text/plain": [
       "0.012302742091939338"
      ]
     },
     "execution_count": 7,
     "metadata": {},
     "output_type": "execute_result"
    }
   ],
   "source": [
    "train_data['purchase'].mean()"
   ]
  },
  {
   "cell_type": "markdown",
   "metadata": {},
   "source": [
    "How many people were in the experiment group, versus the control group? What was the difference in purchase rate between these groups? "
   ]
  },
  {
   "cell_type": "code",
   "execution_count": 8,
   "metadata": {},
   "outputs": [
    {
     "data": {
      "text/html": [
       "<div>\n",
       "<style scoped>\n",
       "    .dataframe tbody tr th:only-of-type {\n",
       "        vertical-align: middle;\n",
       "    }\n",
       "\n",
       "    .dataframe tbody tr th {\n",
       "        vertical-align: top;\n",
       "    }\n",
       "\n",
       "    .dataframe thead th {\n",
       "        text-align: right;\n",
       "    }\n",
       "</style>\n",
       "<table border=\"1\" class=\"dataframe\">\n",
       "  <thead>\n",
       "    <tr style=\"text-align: right;\">\n",
       "      <th></th>\n",
       "      <th>ID</th>\n",
       "      <th>purchase</th>\n",
       "    </tr>\n",
       "    <tr>\n",
       "      <th>Promotion</th>\n",
       "      <th></th>\n",
       "      <th></th>\n",
       "    </tr>\n",
       "  </thead>\n",
       "  <tbody>\n",
       "    <tr>\n",
       "      <td>No</td>\n",
       "      <td>42170</td>\n",
       "      <td>0.007565</td>\n",
       "    </tr>\n",
       "    <tr>\n",
       "      <td>Yes</td>\n",
       "      <td>42364</td>\n",
       "      <td>0.017019</td>\n",
       "    </tr>\n",
       "  </tbody>\n",
       "</table>\n",
       "</div>"
      ],
      "text/plain": [
       "              ID  purchase\n",
       "Promotion                 \n",
       "No         42170  0.007565\n",
       "Yes        42364  0.017019"
      ]
     },
     "execution_count": 8,
     "metadata": {},
     "output_type": "execute_result"
    }
   ],
   "source": [
    "exp_results_df = \\\n",
    "train_data.groupby('Promotion').agg({'ID':'count',\n",
    "                                     'purchase':'mean'})\n",
    "exp_results_df"
   ]
  },
  {
   "cell_type": "code",
   "execution_count": 9,
   "metadata": {},
   "outputs": [
    {
     "data": {
      "text/plain": [
       "0.009454547819772702"
      ]
     },
     "execution_count": 9,
     "metadata": {},
     "output_type": "execute_result"
    }
   ],
   "source": [
    "exp_results_df.loc['Yes', 'purchase'] - exp_results_df.loc['No', 'purchase']"
   ]
  },
  {
   "cell_type": "markdown",
   "metadata": {},
   "source": [
    "The sample size in the treatment and control groups is about equal.\n",
    "\n",
    "The purchase rate in the treatment group is higher than that of the control group. Is the sample size of the experiment large enough to conclude this with statistical significance?\n",
    "\n",
    "These kinds of questions would typically be part of the experimental design: in an *a priori* statistical power analysis the desired effect size would be decided, along with power and significance level, which would define the necessary sample size. But here we can ask them after the fact (i.e. do a *post hoc* power analysis). If we want statistical power of 0.8 and a significance level of 0.05, what is the sample size we'd need, to conclude that the effect size we found is statistically significant?"
   ]
  },
  {
   "cell_type": "code",
   "execution_count": 10,
   "metadata": {},
   "outputs": [
    {
     "data": {
      "text/plain": [
       "0.0874911783085573"
      ]
     },
     "execution_count": 10,
     "metadata": {},
     "output_type": "execute_result"
    }
   ],
   "source": [
    "cohens_h_effect_size = \\\n",
    "proportion_effectsize(exp_results_df.loc['Yes', 'purchase'], exp_results_df.loc['No', 'purchase'], method='normal')\n",
    "cohens_h_effect_size"
   ]
  },
  {
   "cell_type": "code",
   "execution_count": 11,
   "metadata": {},
   "outputs": [
    {
     "data": {
      "text/plain": [
       "2050.728065552541"
      ]
     },
     "execution_count": 11,
     "metadata": {},
     "output_type": "execute_result"
    }
   ],
   "source": [
    "NormalIndPower().solve_power(effect_size=cohens_h_effect_size,\n",
    "                             nobs1=None,\n",
    "                             alpha=0.05,\n",
    "                             power=0.8,\n",
    "                             ratio=1.0,\n",
    "                             alternative='two-sided')"
   ]
  },
  {
   "cell_type": "markdown",
   "metadata": {},
   "source": [
    "We have more than this many observations in the treatment group, so we can conclude that the treatment has a statistically significant effect, for the effect size that was found.\n",
    "\n",
    "Now we can use uplift modeling to try and identify portion of the population who might have a larger effect, as opposed to offering the expensive promotion at random."
   ]
  },
  {
   "cell_type": "markdown",
   "metadata": {},
   "source": [
    "# Build a simple uplift model using a transformed target <a class=\"anchor\" id=\"Build\"></a>\n",
    "There are many approaches to creating uplift models. Perhaps the most intuitive is to create two separate binary classification models, one for the treatment group and one for the control group. The target variable in both models is whether or not a purchase was made. Then the \"uplift score\" would be the difference in scores between these two models: how much more likely is a customer to make the purchase, if they receive a promotion?\n",
    "\n",
    "Because it's a bit simpler, here I'll train a single model, using a transformed target variable. All observations are lumped together and the target variable = 1 if the customer received the promotion and made the purchase, otherwise = 0."
   ]
  },
  {
   "cell_type": "code",
   "execution_count": 12,
   "metadata": {},
   "outputs": [],
   "source": [
    "#Suggested in blog post\n",
    "train_data['target'] = train_data['Promotion'].str.match('Yes') & train_data['purchase'].astype('bool')\n",
    "\n",
    "#Different encoding, suggested in Gutierrez and Gerardy, but doesn't work very well with these data\n",
    "# train_data['target'] = (train_data['Promotion'].str.match('Yes') & train_data['purchase'].astype('bool'))\\\n",
    "#     | (train_data['Promotion'].str.match('No') & train_data['purchase']==0)\n",
    "\n",
    "train_data['target'] = train_data['target'].astype('bool')"
   ]
  },
  {
   "cell_type": "code",
   "execution_count": 13,
   "metadata": {},
   "outputs": [
    {
     "data": {
      "text/plain": [
       "False    83813\n",
       "True       721\n",
       "Name: target, dtype: int64"
      ]
     },
     "execution_count": 13,
     "metadata": {},
     "output_type": "execute_result"
    }
   ],
   "source": [
    "train_data['target'].value_counts()\n",
    "# False    83813\n",
    "# True       721"
   ]
  },
  {
   "cell_type": "code",
   "execution_count": 14,
   "metadata": {},
   "outputs": [
    {
     "data": {
      "text/plain": [
       "721"
      ]
     },
     "execution_count": 14,
     "metadata": {},
     "output_type": "execute_result"
    }
   ],
   "source": [
    "train_data['target'].sum()\n",
    "# 721"
   ]
  },
  {
   "cell_type": "markdown",
   "metadata": {},
   "source": [
    "Make a training/validation split."
   ]
  },
  {
   "cell_type": "code",
   "execution_count": 15,
   "metadata": {},
   "outputs": [],
   "source": [
    "# split training data into train and validation\n",
    "train, valid = sk.model_selection.train_test_split(train_data, test_size=0.2,random_state=42)"
   ]
  },
  {
   "cell_type": "markdown",
   "metadata": {},
   "source": [
    "Examine class balance of transformed variable in training data."
   ]
  },
  {
   "cell_type": "code",
   "execution_count": 16,
   "metadata": {},
   "outputs": [
    {
     "data": {
      "text/plain": [
       "False    67047\n",
       "True       580\n",
       "Name: target, dtype: int64"
      ]
     },
     "execution_count": 16,
     "metadata": {},
     "output_type": "execute_result"
    }
   ],
   "source": [
    "train['target'].value_counts()\n",
    "# False    67047\n",
    "# True       580"
   ]
  },
  {
   "cell_type": "markdown",
   "metadata": {},
   "source": [
    "There are very imbalanced classes, so we need to downsample training data for balanced classes. A more sophisticated alternative would be to use SMOTE.\n",
    "\n",
    "https://stackoverflow.com/questions/44114463/stratified-sampling-in-pandas"
   ]
  },
  {
   "cell_type": "code",
   "execution_count": 17,
   "metadata": {},
   "outputs": [],
   "source": [
    "downsampled_train = \\\n",
    "train.groupby('target', group_keys=False).apply(lambda x: x.sample(train['target'].sum(), random_state=1))"
   ]
  },
  {
   "cell_type": "code",
   "execution_count": 18,
   "metadata": {},
   "outputs": [
    {
     "data": {
      "text/plain": [
       "(1160, 11)"
      ]
     },
     "execution_count": 18,
     "metadata": {},
     "output_type": "execute_result"
    }
   ],
   "source": [
    "downsampled_train.shape\n",
    "# (1160, 11)"
   ]
  },
  {
   "cell_type": "code",
   "execution_count": 19,
   "metadata": {},
   "outputs": [
    {
     "data": {
      "text/plain": [
       "pandas.core.frame.DataFrame"
      ]
     },
     "execution_count": 19,
     "metadata": {},
     "output_type": "execute_result"
    }
   ],
   "source": [
    "type(downsampled_train)"
   ]
  },
  {
   "cell_type": "code",
   "execution_count": 20,
   "metadata": {},
   "outputs": [
    {
     "data": {
      "text/plain": [
       "True     580\n",
       "False    580\n",
       "Name: target, dtype: int64"
      ]
     },
     "execution_count": 20,
     "metadata": {},
     "output_type": "execute_result"
    }
   ],
   "source": [
    "downsampled_train['target'].value_counts()\n",
    "# True     580\n",
    "# False    580"
   ]
  },
  {
   "cell_type": "markdown",
   "metadata": {},
   "source": [
    "Classes are now balanced. The validation data will not be downsampled."
   ]
  },
  {
   "cell_type": "markdown",
   "metadata": {},
   "source": [
    "### Train XGBoost <a class=\"anchor\" id=\"Train\"></a>"
   ]
  },
  {
   "cell_type": "code",
   "execution_count": 21,
   "metadata": {},
   "outputs": [],
   "source": [
    "features = ['V1', 'V2', 'V3', 'V4', 'V5', 'V6', 'V7']"
   ]
  },
  {
   "cell_type": "code",
   "execution_count": 22,
   "metadata": {},
   "outputs": [],
   "source": [
    "X_train_downsamp = downsampled_train[features]\n",
    "y_train_downsamp = downsampled_train['target']\n",
    "X_valid = valid[features]\n",
    "y_valid = valid['target']"
   ]
  },
  {
   "cell_type": "code",
   "execution_count": 23,
   "metadata": {},
   "outputs": [],
   "source": [
    "eval_set = [(X_train_downsamp, y_train_downsamp), (X_valid, y_valid)]"
   ]
  },
  {
   "cell_type": "markdown",
   "metadata": {},
   "source": [
    "Normally a hyperparameter search would be done, but these values used in the blog post work well enough for illustrative purposes."
   ]
  },
  {
   "cell_type": "code",
   "execution_count": 24,
   "metadata": {},
   "outputs": [],
   "source": [
    "# Train an xgboost model\n",
    "model = xgb.XGBClassifier(learning_rate = 0.1,\n",
    "                          max_depth = 7,\n",
    "                          min_child_weight = 5,\n",
    "                          objective = 'binary:logistic',\n",
    "                          seed = 42,\n",
    "                          gamma = 0.1,\n",
    "                          silent = True,\n",
    "                          n_jobs=2)"
   ]
  },
  {
   "cell_type": "code",
   "execution_count": 25,
   "metadata": {},
   "outputs": [
    {
     "name": "stdout",
     "output_type": "stream",
     "text": [
      "[0]\tvalidation_0-auc:0.740039\tvalidation_1-auc:0.609996\n",
      "Multiple eval metrics have been passed: 'validation_1-auc' will be used for early stopping.\n",
      "\n",
      "Will train until validation_1-auc hasn't improved in 30 rounds.\n",
      "[1]\tvalidation_0-auc:0.751833\tvalidation_1-auc:0.625492\n",
      "[2]\tvalidation_0-auc:0.756189\tvalidation_1-auc:0.629561\n",
      "[3]\tvalidation_0-auc:0.758218\tvalidation_1-auc:0.629651\n",
      "[4]\tvalidation_0-auc:0.764927\tvalidation_1-auc:0.631139\n",
      "[5]\tvalidation_0-auc:0.771283\tvalidation_1-auc:0.632887\n",
      "[6]\tvalidation_0-auc:0.773246\tvalidation_1-auc:0.635403\n",
      "[7]\tvalidation_0-auc:0.774764\tvalidation_1-auc:0.638418\n",
      "[8]\tvalidation_0-auc:0.775724\tvalidation_1-auc:0.638948\n",
      "[9]\tvalidation_0-auc:0.780788\tvalidation_1-auc:0.638842\n",
      "[10]\tvalidation_0-auc:0.783239\tvalidation_1-auc:0.638794\n",
      "[11]\tvalidation_0-auc:0.788429\tvalidation_1-auc:0.642171\n",
      "[12]\tvalidation_0-auc:0.789997\tvalidation_1-auc:0.641225\n",
      "[13]\tvalidation_0-auc:0.793078\tvalidation_1-auc:0.639637\n",
      "[14]\tvalidation_0-auc:0.795525\tvalidation_1-auc:0.640653\n",
      "[15]\tvalidation_0-auc:0.79907\tvalidation_1-auc:0.641604\n",
      "[16]\tvalidation_0-auc:0.800025\tvalidation_1-auc:0.640935\n",
      "[17]\tvalidation_0-auc:0.803692\tvalidation_1-auc:0.639724\n",
      "[18]\tvalidation_0-auc:0.808114\tvalidation_1-auc:0.639558\n",
      "[19]\tvalidation_0-auc:0.811356\tvalidation_1-auc:0.639192\n",
      "[20]\tvalidation_0-auc:0.814725\tvalidation_1-auc:0.640183\n",
      "[21]\tvalidation_0-auc:0.816134\tvalidation_1-auc:0.638939\n",
      "[22]\tvalidation_0-auc:0.820449\tvalidation_1-auc:0.637939\n",
      "[23]\tvalidation_0-auc:0.82155\tvalidation_1-auc:0.638801\n",
      "[24]\tvalidation_0-auc:0.82607\tvalidation_1-auc:0.637565\n",
      "[25]\tvalidation_0-auc:0.82703\tvalidation_1-auc:0.637495\n",
      "[26]\tvalidation_0-auc:0.830545\tvalidation_1-auc:0.637481\n",
      "[27]\tvalidation_0-auc:0.8326\tvalidation_1-auc:0.638236\n",
      "[28]\tvalidation_0-auc:0.834194\tvalidation_1-auc:0.63822\n",
      "[29]\tvalidation_0-auc:0.835817\tvalidation_1-auc:0.637248\n",
      "[30]\tvalidation_0-auc:0.838026\tvalidation_1-auc:0.637936\n",
      "[31]\tvalidation_0-auc:0.839802\tvalidation_1-auc:0.637987\n",
      "[32]\tvalidation_0-auc:0.843292\tvalidation_1-auc:0.636654\n",
      "[33]\tvalidation_0-auc:0.84445\tvalidation_1-auc:0.636736\n",
      "[34]\tvalidation_0-auc:0.84646\tvalidation_1-auc:0.635407\n",
      "[35]\tvalidation_0-auc:0.8478\tvalidation_1-auc:0.635839\n",
      "[36]\tvalidation_0-auc:0.848249\tvalidation_1-auc:0.636566\n",
      "[37]\tvalidation_0-auc:0.849183\tvalidation_1-auc:0.636843\n",
      "[38]\tvalidation_0-auc:0.851088\tvalidation_1-auc:0.635982\n",
      "[39]\tvalidation_0-auc:0.851694\tvalidation_1-auc:0.63665\n",
      "[40]\tvalidation_0-auc:0.853222\tvalidation_1-auc:0.636699\n",
      "[41]\tvalidation_0-auc:0.854114\tvalidation_1-auc:0.636361\n",
      "Stopping. Best iteration:\n",
      "[11]\tvalidation_0-auc:0.788429\tvalidation_1-auc:0.642171\n",
      "\n",
      "CPU times: user 628 ms, sys: 30.4 ms, total: 658 ms\n",
      "Wall time: 412 ms\n"
     ]
    },
    {
     "data": {
      "text/plain": [
       "XGBClassifier(base_score=0.5, booster='gbtree', colsample_bylevel=1,\n",
       "              colsample_bynode=1, colsample_bytree=1, gamma=0.1,\n",
       "              learning_rate=0.1, max_delta_step=0, max_depth=7,\n",
       "              min_child_weight=5, missing=None, n_estimators=100, n_jobs=2,\n",
       "              nthread=None, objective='binary:logistic', random_state=0,\n",
       "              reg_alpha=0, reg_lambda=1, scale_pos_weight=1, seed=42,\n",
       "              silent=True, subsample=1, verbosity=1)"
      ]
     },
     "execution_count": 25,
     "metadata": {},
     "output_type": "execute_result"
    }
   ],
   "source": [
    "%%time\n",
    "model.fit(X_train_downsamp, y_train_downsamp, eval_set=eval_set,\\\n",
    "          eval_metric=\"auc\", verbose=True, early_stopping_rounds=30)"
   ]
  },
  {
   "cell_type": "markdown",
   "metadata": {},
   "source": [
    "# Model evaluation <a class=\"anchor\" id=\"Model-evaluation\"></a>\n",
    "Given an uplift model, how do we know how good it is? There are many ways to answer this. First we'll do some basic checks that the model scores are stratifying customers according to how receptive they are to the promotion. These diagnostics are related to an area-under-the-curve type of statistic that can be used to compare models. For uplift models there is something called a Qini curve, which is analogous to an ROC curve for binary classification.\n",
    "\n",
    "All evaluations are done using the (unbalanced) validation set, and in a real project would eventually be done on the test set.\n",
    "\n",
    "For equations and detailed descriptions of these evaluations, see \"4.1. Traditional Uplift Metrics\" in [Gutierrez and Gerardy, 2016](http://proceedings.mlr.press/v67/gutierrez17a/gutierrez17a.pdf).\n",
    "\n",
    "### Uplift decile chart <a class=\"anchor\" id=\"decile-chart\"></a>"
   ]
  },
  {
   "cell_type": "markdown",
   "metadata": {},
   "source": [
    "Gutierrez and and Gerardy 2016:\n",
    "\n",
    ">A common approach to evaluate an uplift model is to first predict uplift for both treated and control observations and compute the average prediction per decile in both groups. Then, the difference between those averages is taken for each decile. This difference thus gives an idea of the uplift gain per decile."
   ]
  },
  {
   "cell_type": "markdown",
   "metadata": {},
   "source": [
    "Breaking this procedure down in to chunks, first,\n",
    "\n",
    "> predict uplift for both treated and control observations\n",
    "\n",
    "Do this for the validation set."
   ]
  },
  {
   "cell_type": "markdown",
   "metadata": {},
   "source": [
    "Get uplift prediction for all observations and examine the score distribution:"
   ]
  },
  {
   "cell_type": "code",
   "execution_count": 26,
   "metadata": {},
   "outputs": [],
   "source": [
    "valid_predict_proba = model.predict_proba(X_valid)[:,1]"
   ]
  },
  {
   "cell_type": "code",
   "execution_count": 27,
   "metadata": {},
   "outputs": [
    {
     "data": {
      "text/plain": [
       "Text(0, 0.5, 'Number of observations in validation set')"
      ]
     },
     "execution_count": 27,
     "metadata": {},
     "output_type": "execute_result"
    },
    {
     "data": {
      "image/png": "[encoded data removed]",
      "text/plain": [
       "<Figure size 1200x800 with 1 Axes>"
      ]
     },
     "metadata": {
      "needs_background": "light"
     },
     "output_type": "display_data"
    }
   ],
   "source": [
    "mpl.rcParams['figure.dpi'] = 200\n",
    "mpl.rcParams['figure.figsize'] = (6,4)\n",
    "plt.hist(valid_predict_proba)\n",
    "plt.xlabel('Uplift score')\n",
    "plt.ylabel('Number of observations in validation set')"
   ]
  },
  {
   "cell_type": "markdown",
   "metadata": {},
   "source": [
    "> compute the average prediction per decile in both groups\n",
    "\n",
    "I think this may be a typo in the paper, as this would be characterizing the scores within difference deciles of scores, notwithstanding the success of the campaign (`purchase`). To evaluate the relationship between model scores and customer behavior, it seems better to \"compute the purchase rate, per decile of model score, in both groups.\""
   ]
  },
  {
   "cell_type": "code",
   "execution_count": 28,
   "metadata": {},
   "outputs": [
    {
     "data": {
      "text/plain": [
       "(16907,)"
      ]
     },
     "execution_count": 28,
     "metadata": {},
     "output_type": "execute_result"
    }
   ],
   "source": [
    "valid_predict_proba.shape"
   ]
  },
  {
   "cell_type": "code",
   "execution_count": 29,
   "metadata": {},
   "outputs": [
    {
     "data": {
      "text/plain": [
       "(16907, 11)"
      ]
     },
     "execution_count": 29,
     "metadata": {},
     "output_type": "execute_result"
    }
   ],
   "source": [
    "valid.shape"
   ]
  },
  {
   "cell_type": "markdown",
   "metadata": {},
   "source": [
    "Create a new dataframe from the validation df, to add the uplift scores and deciles to."
   ]
  },
  {
   "cell_type": "code",
   "execution_count": 30,
   "metadata": {},
   "outputs": [],
   "source": [
    "# valid_w_score = test_data.copy()\n",
    "valid_w_score = valid.copy()\n",
    "valid_w_score['Uplift score'] = valid_predict_proba"
   ]
  },
  {
   "cell_type": "code",
   "execution_count": 31,
   "metadata": {},
   "outputs": [
    {
     "data": {
      "text/html": [
       "<div>\n",
       "<style scoped>\n",
       "    .dataframe tbody tr th:only-of-type {\n",
       "        vertical-align: middle;\n",
       "    }\n",
       "\n",
       "    .dataframe tbody tr th {\n",
       "        vertical-align: top;\n",
       "    }\n",
       "\n",
       "    .dataframe thead th {\n",
       "        text-align: right;\n",
       "    }\n",
       "</style>\n",
       "<table border=\"1\" class=\"dataframe\">\n",
       "  <thead>\n",
       "    <tr style=\"text-align: right;\">\n",
       "      <th></th>\n",
       "      <th>ID</th>\n",
       "      <th>Promotion</th>\n",
       "      <th>purchase</th>\n",
       "      <th>V1</th>\n",
       "      <th>V2</th>\n",
       "      <th>V3</th>\n",
       "      <th>V4</th>\n",
       "      <th>V5</th>\n",
       "      <th>V6</th>\n",
       "      <th>V7</th>\n",
       "      <th>target</th>\n",
       "      <th>Uplift score</th>\n",
       "    </tr>\n",
       "  </thead>\n",
       "  <tbody>\n",
       "    <tr>\n",
       "      <td>6264</td>\n",
       "      <td>9346</td>\n",
       "      <td>Yes</td>\n",
       "      <td>0</td>\n",
       "      <td>3</td>\n",
       "      <td>18.012754</td>\n",
       "      <td>-1.511395</td>\n",
       "      <td>2</td>\n",
       "      <td>2</td>\n",
       "      <td>4</td>\n",
       "      <td>1</td>\n",
       "      <td>False</td>\n",
       "      <td>0.557656</td>\n",
       "    </tr>\n",
       "    <tr>\n",
       "      <td>41822</td>\n",
       "      <td>62172</td>\n",
       "      <td>No</td>\n",
       "      <td>0</td>\n",
       "      <td>2</td>\n",
       "      <td>28.676557</td>\n",
       "      <td>-0.126150</td>\n",
       "      <td>2</td>\n",
       "      <td>3</td>\n",
       "      <td>3</td>\n",
       "      <td>2</td>\n",
       "      <td>False</td>\n",
       "      <td>0.618133</td>\n",
       "    </tr>\n",
       "    <tr>\n",
       "      <td>8569</td>\n",
       "      <td>12768</td>\n",
       "      <td>No</td>\n",
       "      <td>0</td>\n",
       "      <td>0</td>\n",
       "      <td>28.817748</td>\n",
       "      <td>-1.511395</td>\n",
       "      <td>2</td>\n",
       "      <td>4</td>\n",
       "      <td>3</td>\n",
       "      <td>2</td>\n",
       "      <td>False</td>\n",
       "      <td>0.501890</td>\n",
       "    </tr>\n",
       "    <tr>\n",
       "      <td>41228</td>\n",
       "      <td>61264</td>\n",
       "      <td>No</td>\n",
       "      <td>0</td>\n",
       "      <td>1</td>\n",
       "      <td>26.140783</td>\n",
       "      <td>-0.905350</td>\n",
       "      <td>2</td>\n",
       "      <td>1</td>\n",
       "      <td>4</td>\n",
       "      <td>2</td>\n",
       "      <td>False</td>\n",
       "      <td>0.523865</td>\n",
       "    </tr>\n",
       "    <tr>\n",
       "      <td>24896</td>\n",
       "      <td>37024</td>\n",
       "      <td>Yes</td>\n",
       "      <td>0</td>\n",
       "      <td>1</td>\n",
       "      <td>32.346423</td>\n",
       "      <td>0.566472</td>\n",
       "      <td>1</td>\n",
       "      <td>2</td>\n",
       "      <td>3</td>\n",
       "      <td>1</td>\n",
       "      <td>False</td>\n",
       "      <td>0.413907</td>\n",
       "    </tr>\n",
       "  </tbody>\n",
       "</table>\n",
       "</div>"
      ],
      "text/plain": [
       "          ID Promotion  purchase  V1         V2        V3  V4  V5  V6  V7  \\\n",
       "6264    9346       Yes         0   3  18.012754 -1.511395   2   2   4   1   \n",
       "41822  62172        No         0   2  28.676557 -0.126150   2   3   3   2   \n",
       "8569   12768        No         0   0  28.817748 -1.511395   2   4   3   2   \n",
       "41228  61264        No         0   1  26.140783 -0.905350   2   1   4   2   \n",
       "24896  37024       Yes         0   1  32.346423  0.566472   1   2   3   1   \n",
       "\n",
       "       target  Uplift score  \n",
       "6264    False      0.557656  \n",
       "41822   False      0.618133  \n",
       "8569    False      0.501890  \n",
       "41228   False      0.523865  \n",
       "24896   False      0.413907  "
      ]
     },
     "execution_count": 31,
     "metadata": {},
     "output_type": "execute_result"
    }
   ],
   "source": [
    "valid_w_score.head()"
   ]
  },
  {
   "cell_type": "markdown",
   "metadata": {},
   "source": [
    "Check that the treatment and control groups are balanced, overall, for the validation set."
   ]
  },
  {
   "cell_type": "code",
   "execution_count": 32,
   "metadata": {},
   "outputs": [
    {
     "data": {
      "text/plain": [
       "No     8474\n",
       "Yes    8433\n",
       "Name: Promotion, dtype: int64"
      ]
     },
     "execution_count": 32,
     "metadata": {},
     "output_type": "execute_result"
    }
   ],
   "source": [
    "valid_w_score['Promotion'].value_counts()\n",
    "# No     8474\n",
    "# Yes    8433"
   ]
  },
  {
   "cell_type": "markdown",
   "metadata": {},
   "source": [
    "Make a Boolean mask that can be used to identify who received the promotion."
   ]
  },
  {
   "cell_type": "code",
   "execution_count": 33,
   "metadata": {},
   "outputs": [],
   "source": [
    "validation_treatment_mask = valid_w_score['Promotion'].str.match('Yes')"
   ]
  },
  {
   "cell_type": "markdown",
   "metadata": {},
   "source": [
    "Make labels for the uplift score deciles. Do treatment and control groups together. We'll check that the treatment and control groups are balanced within the deciles."
   ]
  },
  {
   "cell_type": "code",
   "execution_count": 34,
   "metadata": {},
   "outputs": [
    {
     "name": "stdout",
     "output_type": "stream",
     "text": [
      "[1, 2, 3, 4, 5, 6, 7, 8, 9, 10]\n"
     ]
    }
   ],
   "source": [
    "decile_labels = [number for number in range(1,11)]\n",
    "print(decile_labels)"
   ]
  },
  {
   "cell_type": "markdown",
   "metadata": {},
   "source": [
    "Pandas has a convenient function to produce a series of labels according to which quantile an observation in the input series belongs to."
   ]
  },
  {
   "cell_type": "code",
   "execution_count": 35,
   "metadata": {},
   "outputs": [],
   "source": [
    "score_deciles, score_decile_bins = \\\n",
    "pd.qcut(x=valid_w_score['Uplift score'],\n",
    "        q=10,\n",
    "        labels=decile_labels,\n",
    "        retbins=True)"
   ]
  },
  {
   "cell_type": "markdown",
   "metadata": {},
   "source": [
    "Here are the quantile labels (not differentiable between treatment and control in this output):"
   ]
  },
  {
   "cell_type": "code",
   "execution_count": 36,
   "metadata": {},
   "outputs": [
    {
     "data": {
      "text/plain": [
       "6264     8\n",
       "41822    9\n",
       "8569     6\n",
       "41228    7\n",
       "24896    4\n",
       "Name: Uplift score, dtype: category\n",
       "Categories (10, int64): [1 < 2 < 3 < 4 ... 7 < 8 < 9 < 10]"
      ]
     },
     "execution_count": 36,
     "metadata": {},
     "output_type": "execute_result"
    }
   ],
   "source": [
    "score_deciles.head()"
   ]
  },
  {
   "cell_type": "markdown",
   "metadata": {},
   "source": [
    "Bin edges:"
   ]
  },
  {
   "cell_type": "code",
   "execution_count": 37,
   "metadata": {},
   "outputs": [
    {
     "data": {
      "text/plain": [
       "array([0.20156759, 0.29423583, 0.34919083, 0.38772139, 0.42448917,\n",
       "       0.47045654, 0.50582469, 0.55224079, 0.59514534, 0.64335269,\n",
       "       0.72758454])"
      ]
     },
     "execution_count": 37,
     "metadata": {},
     "output_type": "execute_result"
    }
   ],
   "source": [
    "score_decile_bins"
   ]
  },
  {
   "cell_type": "markdown",
   "metadata": {},
   "source": [
    "Check that the number of treated and control observations within decile bins are similar."
   ]
  },
  {
   "cell_type": "code",
   "execution_count": 38,
   "metadata": {},
   "outputs": [],
   "source": [
    "valid_w_score['Decile bin'] = score_deciles"
   ]
  },
  {
   "cell_type": "code",
   "execution_count": 39,
   "metadata": {},
   "outputs": [
    {
     "data": {
      "text/plain": [
       "Decile bin  Promotion\n",
       "1           No           882\n",
       "            Yes          811\n",
       "2           No           837\n",
       "            Yes          853\n",
       "3           No           859\n",
       "            Yes          847\n",
       "4           No           830\n",
       "            Yes          873\n",
       "5           No           866\n",
       "            Yes          796\n",
       "6           No           853\n",
       "            Yes          840\n",
       "7           No           835\n",
       "            Yes          869\n",
       "8           No           827\n",
       "            Yes          859\n",
       "9           No           880\n",
       "            Yes          810\n",
       "10          No           805\n",
       "            Yes          875\n",
       "Name: Promotion, dtype: int64"
      ]
     },
     "execution_count": 39,
     "metadata": {},
     "output_type": "execute_result"
    }
   ],
   "source": [
    "valid_w_score.groupby(['Decile bin', 'Promotion'])['Promotion'].count()"
   ]
  },
  {
   "cell_type": "markdown",
   "metadata": {},
   "source": [
    "These indeed look very similar. This is expected, as we are working with data from a randomized experiment. Examine the top of the dataframe:"
   ]
  },
  {
   "cell_type": "code",
   "execution_count": 40,
   "metadata": {},
   "outputs": [
    {
     "data": {
      "text/html": [
       "<div>\n",
       "<style scoped>\n",
       "    .dataframe tbody tr th:only-of-type {\n",
       "        vertical-align: middle;\n",
       "    }\n",
       "\n",
       "    .dataframe tbody tr th {\n",
       "        vertical-align: top;\n",
       "    }\n",
       "\n",
       "    .dataframe thead th {\n",
       "        text-align: right;\n",
       "    }\n",
       "</style>\n",
       "<table border=\"1\" class=\"dataframe\">\n",
       "  <thead>\n",
       "    <tr style=\"text-align: right;\">\n",
       "      <th></th>\n",
       "      <th>Promotion</th>\n",
       "      <th>Decile bin</th>\n",
       "      <th>Uplift score</th>\n",
       "      <th>purchase</th>\n",
       "    </tr>\n",
       "  </thead>\n",
       "  <tbody>\n",
       "    <tr>\n",
       "      <td>6264</td>\n",
       "      <td>Yes</td>\n",
       "      <td>8</td>\n",
       "      <td>0.557656</td>\n",
       "      <td>0</td>\n",
       "    </tr>\n",
       "    <tr>\n",
       "      <td>41822</td>\n",
       "      <td>No</td>\n",
       "      <td>9</td>\n",
       "      <td>0.618133</td>\n",
       "      <td>0</td>\n",
       "    </tr>\n",
       "    <tr>\n",
       "      <td>8569</td>\n",
       "      <td>No</td>\n",
       "      <td>6</td>\n",
       "      <td>0.501890</td>\n",
       "      <td>0</td>\n",
       "    </tr>\n",
       "    <tr>\n",
       "      <td>41228</td>\n",
       "      <td>No</td>\n",
       "      <td>7</td>\n",
       "      <td>0.523865</td>\n",
       "      <td>0</td>\n",
       "    </tr>\n",
       "    <tr>\n",
       "      <td>24896</td>\n",
       "      <td>Yes</td>\n",
       "      <td>4</td>\n",
       "      <td>0.413907</td>\n",
       "      <td>0</td>\n",
       "    </tr>\n",
       "    <tr>\n",
       "      <td>45830</td>\n",
       "      <td>Yes</td>\n",
       "      <td>3</td>\n",
       "      <td>0.356000</td>\n",
       "      <td>0</td>\n",
       "    </tr>\n",
       "    <tr>\n",
       "      <td>61302</td>\n",
       "      <td>Yes</td>\n",
       "      <td>3</td>\n",
       "      <td>0.386093</td>\n",
       "      <td>0</td>\n",
       "    </tr>\n",
       "    <tr>\n",
       "      <td>60120</td>\n",
       "      <td>Yes</td>\n",
       "      <td>10</td>\n",
       "      <td>0.661588</td>\n",
       "      <td>0</td>\n",
       "    </tr>\n",
       "    <tr>\n",
       "      <td>75899</td>\n",
       "      <td>No</td>\n",
       "      <td>6</td>\n",
       "      <td>0.500598</td>\n",
       "      <td>0</td>\n",
       "    </tr>\n",
       "    <tr>\n",
       "      <td>67557</td>\n",
       "      <td>No</td>\n",
       "      <td>2</td>\n",
       "      <td>0.340484</td>\n",
       "      <td>0</td>\n",
       "    </tr>\n",
       "  </tbody>\n",
       "</table>\n",
       "</div>"
      ],
      "text/plain": [
       "      Promotion Decile bin  Uplift score  purchase\n",
       "6264        Yes          8      0.557656         0\n",
       "41822        No          9      0.618133         0\n",
       "8569         No          6      0.501890         0\n",
       "41228        No          7      0.523865         0\n",
       "24896       Yes          4      0.413907         0\n",
       "45830       Yes          3      0.356000         0\n",
       "61302       Yes          3      0.386093         0\n",
       "60120       Yes         10      0.661588         0\n",
       "75899        No          6      0.500598         0\n",
       "67557        No          2      0.340484         0"
      ]
     },
     "execution_count": 40,
     "metadata": {},
     "output_type": "execute_result"
    }
   ],
   "source": [
    "valid_w_score[['Promotion', 'Decile bin', 'Uplift score', 'purchase']].head(10)"
   ]
  },
  {
   "cell_type": "markdown",
   "metadata": {},
   "source": [
    "Now do a groupby/mean of the purchase occurrence to get the rate of purchase within each decile. Need to do this separately for treatment and control groups."
   ]
  },
  {
   "cell_type": "code",
   "execution_count": 41,
   "metadata": {},
   "outputs": [],
   "source": [
    "mean_response_treatment = valid_w_score[validation_treatment_mask].groupby('Decile bin')['purchase'].mean()\n",
    "mean_response_control = valid_w_score[~validation_treatment_mask].groupby('Decile bin')['purchase'].mean()"
   ]
  },
  {
   "cell_type": "code",
   "execution_count": 42,
   "metadata": {},
   "outputs": [
    {
     "data": {
      "text/plain": [
       "Decile bin\n",
       "1     0.004932\n",
       "2     0.005862\n",
       "3     0.008264\n",
       "4     0.011455\n",
       "5     0.021357\n",
       "6     0.017857\n",
       "7     0.021864\n",
       "8     0.015134\n",
       "9     0.029630\n",
       "10    0.030857\n",
       "Name: purchase, dtype: float64"
      ]
     },
     "execution_count": 42,
     "metadata": {},
     "output_type": "execute_result"
    }
   ],
   "source": [
    "mean_response_treatment"
   ]
  },
  {
   "cell_type": "code",
   "execution_count": 43,
   "metadata": {},
   "outputs": [
    {
     "data": {
      "text/plain": [
       "Decile bin\n",
       "1     0.010204\n",
       "2     0.008363\n",
       "3     0.008149\n",
       "4     0.009639\n",
       "5     0.003464\n",
       "6     0.009379\n",
       "7     0.009581\n",
       "8     0.009674\n",
       "9     0.006818\n",
       "10    0.003727\n",
       "Name: purchase, dtype: float64"
      ]
     },
     "execution_count": 43,
     "metadata": {},
     "output_type": "execute_result"
    }
   ],
   "source": [
    "mean_response_control"
   ]
  },
  {
   "cell_type": "markdown",
   "metadata": {},
   "source": [
    "> the difference between those averages is taken for each decile\n",
    "\n",
    "Finally calculate the lift by subtracting these."
   ]
  },
  {
   "cell_type": "code",
   "execution_count": 44,
   "metadata": {},
   "outputs": [
    {
     "data": {
      "text/plain": [
       "Decile bin\n",
       "1    -0.005272\n",
       "2    -0.002502\n",
       "3     0.000115\n",
       "4     0.001816\n",
       "5     0.017893\n",
       "6     0.008478\n",
       "7     0.012283\n",
       "8     0.005460\n",
       "9     0.022811\n",
       "10    0.027130\n",
       "Name: purchase, dtype: float64"
      ]
     },
     "execution_count": 44,
     "metadata": {},
     "output_type": "execute_result"
    }
   ],
   "source": [
    "lift = mean_response_treatment - mean_response_control\n",
    "lift"
   ]
  },
  {
   "cell_type": "code",
   "execution_count": 45,
   "metadata": {},
   "outputs": [
    {
     "data": {
      "text/plain": [
       "Text(0.5, 1.0, 'Difference in purchase rate\\nbetween uplift score deciles of treatment and control group')"
      ]
     },
     "execution_count": 45,
     "metadata": {},
     "output_type": "execute_result"
    },
    {
     "data": {
      "image/png": "[encoded data removed]",
      "text/plain": [
       "<Figure size 1200x800 with 1 Axes>"
      ]
     },
     "metadata": {
      "needs_background": "light"
     },
     "output_type": "display_data"
    }
   ],
   "source": [
    "mpl.rcParams['figure.dpi'] = 200\n",
    "lift.plot.bar()\n",
    "plt.title('Difference in purchase rate\\nbetween uplift score deciles of treatment and control group')"
   ]
  },
  {
   "cell_type": "markdown",
   "metadata": {},
   "source": [
    "This shows that the model, while not perfect, appears to be useful. Those with lower uplift scores have negative lift. They are actually less likely to purchase, given the promotion. This is the sleeping dog effect. Those with higher scores are more likely to purchase, given the promotion.\n",
    "\n",
    "These lifts per decile can be compared to the lift expected by giving the promotion to everyone."
   ]
  },
  {
   "cell_type": "code",
   "execution_count": 46,
   "metadata": {},
   "outputs": [
    {
     "data": {
      "text/plain": [
       "Promotion\n",
       "No     0.007907\n",
       "Yes    0.016720\n",
       "Name: purchase, dtype: float64"
      ]
     },
     "execution_count": 46,
     "metadata": {},
     "output_type": "execute_result"
    }
   ],
   "source": [
    "purchase_rate_by_promotion = valid.groupby('Promotion')['purchase'].mean()\n",
    "purchase_rate_by_promotion"
   ]
  },
  {
   "cell_type": "code",
   "execution_count": 47,
   "metadata": {},
   "outputs": [
    {
     "data": {
      "text/plain": [
       "0.00881349081506308"
      ]
     },
     "execution_count": 47,
     "metadata": {},
     "output_type": "execute_result"
    }
   ],
   "source": [
    "purchase_rate_by_promotion[1] - purchase_rate_by_promotion[0]"
   ]
  },
  {
   "cell_type": "markdown",
   "metadata": {},
   "source": [
    "This indicates that if we selectively offer the promotion to those with higher uplift scores, we can expect more of a lift in purchase rates than offering the promotion at random."
   ]
  },
  {
   "cell_type": "markdown",
   "metadata": {},
   "source": [
    "In practice, given limited capacity to offer the promotion, we'd target people starting with the highest lift scores and proceeding down. Cumulative decile charts provide a way to visualize the effect of this.\n",
    "\n",
    "### Cumulative uplift decile chart <a class=\"anchor\" id=\"Cumulative-uplift\"></a>"
   ]
  },
  {
   "cell_type": "code",
   "execution_count": 48,
   "metadata": {},
   "outputs": [
    {
     "data": {
      "text/plain": [
       "[10, 9, 8, 7, 6, 5, 4, 3, 2, 1]"
      ]
     },
     "execution_count": 48,
     "metadata": {},
     "output_type": "execute_result"
    }
   ],
   "source": [
    "decile_labels[::-1]"
   ]
  },
  {
   "cell_type": "markdown",
   "metadata": {},
   "source": [
    "This indexing `[::-1]` reverses a list."
   ]
  },
  {
   "cell_type": "markdown",
   "metadata": {},
   "source": [
    "Start with the highest decile, calculate the lifts of targeting everyone with scores in that decile or higher."
   ]
  },
  {
   "cell_type": "code",
   "execution_count": 49,
   "metadata": {},
   "outputs": [],
   "source": [
    "treatment_mean = []\n",
    "control_mean = []\n",
    "treatment_sum = []\n",
    "control_sum = []\n",
    "treatment_n = []\n",
    "control_n = []\n",
    "\n",
    "for decile_countdown in decile_labels[::-1]:\n",
    "    decile_list = list(range(decile_countdown,11))\n",
    "    decile_mask = valid_w_score['Decile bin'].isin(decile_list)\n",
    "    \n",
    "    treatment_mean.append(valid_w_score.loc[validation_treatment_mask & decile_mask, 'purchase'].mean())\n",
    "    control_mean.append(valid_w_score.loc[~validation_treatment_mask & decile_mask, 'purchase'].mean())\n",
    "    \n",
    "    treatment_sum.append(valid_w_score.loc[validation_treatment_mask & decile_mask, 'purchase'].sum())\n",
    "    control_sum.append(valid_w_score.loc[~validation_treatment_mask & decile_mask, 'purchase'].sum())\n",
    "    \n",
    "    treatment_n.append(valid_w_score.loc[validation_treatment_mask & decile_mask, 'purchase'].count())\n",
    "    control_n.append(valid_w_score.loc[~validation_treatment_mask & decile_mask, 'purchase'].count())\n",
    "    "
   ]
  },
  {
   "cell_type": "code",
   "execution_count": 50,
   "metadata": {},
   "outputs": [],
   "source": [
    "cumulative_lift = np.array(treatment_mean) - np.array(control_mean)"
   ]
  },
  {
   "cell_type": "code",
   "execution_count": 51,
   "metadata": {},
   "outputs": [],
   "source": [
    "cumulative_lift_series = pd.Series(data=cumulative_lift, index=decile_labels[::-1], name='Cumulative lift')"
   ]
  },
  {
   "cell_type": "code",
   "execution_count": 52,
   "metadata": {},
   "outputs": [
    {
     "data": {
      "text/plain": [
       "10    0.027130\n",
       "9     0.024926\n",
       "8     0.018390\n",
       "7     0.016849\n",
       "6     0.015185\n",
       "5     0.015671\n",
       "4     0.013645\n",
       "3     0.011951\n",
       "2     0.010335\n",
       "1     0.008813\n",
       "Name: Cumulative lift, dtype: float64"
      ]
     },
     "execution_count": 52,
     "metadata": {},
     "output_type": "execute_result"
    }
   ],
   "source": [
    "cumulative_lift_series"
   ]
  },
  {
   "cell_type": "markdown",
   "metadata": {},
   "source": [
    "Check that the final decile gives the expected lift from marketing to everyone:"
   ]
  },
  {
   "cell_type": "code",
   "execution_count": 53,
   "metadata": {},
   "outputs": [
    {
     "data": {
      "text/plain": [
       "0.00881349081506308"
      ]
     },
     "execution_count": 53,
     "metadata": {},
     "output_type": "execute_result"
    }
   ],
   "source": [
    "lift_from_all = \\\n",
    "valid_w_score.loc[validation_treatment_mask, 'purchase'].mean()\\\n",
    "- valid_w_score.loc[~validation_treatment_mask, 'purchase'].mean()\n",
    "\n",
    "lift_from_all"
   ]
  },
  {
   "cell_type": "markdown",
   "metadata": {},
   "source": [
    "Yes."
   ]
  },
  {
   "cell_type": "code",
   "execution_count": 54,
   "metadata": {},
   "outputs": [
    {
     "data": {
      "text/plain": [
       "Text(0.5, 0, 'Uplift score decile')"
      ]
     },
     "execution_count": 54,
     "metadata": {},
     "output_type": "execute_result"
    },
    {
     "data": {
      "image/png": "[encoded data removed]",
      "text/plain": [
       "<Figure size 1200x800 with 1 Axes>"
      ]
     },
     "metadata": {
      "needs_background": "light"
     },
     "output_type": "display_data"
    }
   ],
   "source": [
    "cumulative_lift_series.plot.bar()\n",
    "plt.title('Cumulative uplift decile chart')\n",
    "plt.ylabel('Lift in purchase rate\\nfrom offering promotion to customers\\nin this decile and all higher deciles')\n",
    "plt.xlabel('Uplift score decile')"
   ]
  },
  {
   "cell_type": "markdown",
   "metadata": {},
   "source": [
    "### Cumulative gain chart <a class=\"anchor\" id=\"Cumulative-gain\"></a>\n",
    "This chart analyzes the effect of targeting customers starting with the highest scores and proceeding lower in a cumulative fashion, similar to the cumulative decile chart. Instead of looking at the lift in purchase rate, the interpretation here seems like the number of incremental customers that can be gained by targeting a given proportion of the population."
   ]
  },
  {
   "cell_type": "code",
   "execution_count": 55,
   "metadata": {},
   "outputs": [],
   "source": [
    "cumulative_gain = \\\n",
    "((np.array(treatment_sum) / np.array(treatment_n))\n",
    " - (np.array(control_sum) / np.array(control_n))) \\\n",
    "* (np.array(treatment_n) + np.array(control_n))"
   ]
  },
  {
   "cell_type": "code",
   "execution_count": 56,
   "metadata": {},
   "outputs": [
    {
     "data": {
      "text/plain": [
       "array([ 45.57913043,  84.        ,  92.97840804, 113.90198166,\n",
       "       128.36231584, 158.50801076, 161.25716907, 161.62129121,\n",
       "       157.23158283, 149.00968921])"
      ]
     },
     "execution_count": 56,
     "metadata": {},
     "output_type": "execute_result"
    }
   ],
   "source": [
    "cumulative_gain"
   ]
  },
  {
   "cell_type": "markdown",
   "metadata": {},
   "source": [
    "Check that the final decile is the lift, in terms of number of people, from marketing to everyone."
   ]
  },
  {
   "cell_type": "code",
   "execution_count": 57,
   "metadata": {},
   "outputs": [
    {
     "data": {
      "text/plain": [
       "149.0096892102715"
      ]
     },
     "execution_count": 57,
     "metadata": {},
     "output_type": "execute_result"
    }
   ],
   "source": [
    "lift_from_all * valid_w_score.shape[0]"
   ]
  },
  {
   "cell_type": "code",
   "execution_count": 58,
   "metadata": {},
   "outputs": [],
   "source": [
    "cumulative_gain_series = \\\n",
    "pd.Series(data=cumulative_gain, index=decile_labels[::-1], name='Cumulative gain')"
   ]
  },
  {
   "cell_type": "code",
   "execution_count": 59,
   "metadata": {},
   "outputs": [
    {
     "data": {
      "text/plain": [
       "Text(0.5, 0, 'Uplift score decile')"
      ]
     },
     "execution_count": 59,
     "metadata": {},
     "output_type": "execute_result"
    },
    {
     "data": {
      "image/png": "[encoded data removed]",
      "text/plain": [
       "<Figure size 1200x800 with 1 Axes>"
      ]
     },
     "metadata": {
      "needs_background": "light"
     },
     "output_type": "display_data"
    }
   ],
   "source": [
    "cumulative_gain_series.plot.bar()\n",
    "plt.title('Cumulative gain decile chart')\n",
    "plt.ylabel('Incremental customers')\n",
    "plt.xlabel('Uplift score decile')"
   ]
  },
  {
   "cell_type": "markdown",
   "metadata": {},
   "source": [
    "The text states that \n",
    ">We can thus choose the decile that maximizes the gain as the limit of the population to be targeted\n",
    "\n",
    "This seems true if finances are not considered. A probably better way to select the limit of the population to be targeted is via a cost/benefit analysis."
   ]
  },
  {
   "cell_type": "markdown",
   "metadata": {},
   "source": [
    "### Cumulative gain curve (modified Qini curve) <a class=\"anchor\" id=\"gain-curve\"></a>\n",
    "This is a more continuous version of the cumulative gain chart. Instead of breaking the population into deciles, here we look at the incremental lift of offering the promotion to the customer with the highest uplift score, then add customers one at a time, in order of descending uplift score. There is a related concept called the Qini curve in the uplift literature, which should be directly proportional to the gain curve, assuming a randomized and balanced experimental design."
   ]
  },
  {
   "cell_type": "code",
   "execution_count": 60,
   "metadata": {},
   "outputs": [
    {
     "data": {
      "text/html": [
       "<div>\n",
       "<style scoped>\n",
       "    .dataframe tbody tr th:only-of-type {\n",
       "        vertical-align: middle;\n",
       "    }\n",
       "\n",
       "    .dataframe tbody tr th {\n",
       "        vertical-align: top;\n",
       "    }\n",
       "\n",
       "    .dataframe thead th {\n",
       "        text-align: right;\n",
       "    }\n",
       "</style>\n",
       "<table border=\"1\" class=\"dataframe\">\n",
       "  <thead>\n",
       "    <tr style=\"text-align: right;\">\n",
       "      <th></th>\n",
       "      <th>ID</th>\n",
       "      <th>Promotion</th>\n",
       "      <th>purchase</th>\n",
       "      <th>V1</th>\n",
       "      <th>V2</th>\n",
       "      <th>V3</th>\n",
       "      <th>V4</th>\n",
       "      <th>V5</th>\n",
       "      <th>V6</th>\n",
       "      <th>V7</th>\n",
       "      <th>target</th>\n",
       "      <th>Uplift score</th>\n",
       "      <th>Decile bin</th>\n",
       "    </tr>\n",
       "  </thead>\n",
       "  <tbody>\n",
       "    <tr>\n",
       "      <td>63907</td>\n",
       "      <td>95205</td>\n",
       "      <td>Yes</td>\n",
       "      <td>0</td>\n",
       "      <td>2</td>\n",
       "      <td>29.866117</td>\n",
       "      <td>0.047006</td>\n",
       "      <td>2</td>\n",
       "      <td>3</td>\n",
       "      <td>4</td>\n",
       "      <td>2</td>\n",
       "      <td>False</td>\n",
       "      <td>0.727585</td>\n",
       "      <td>10</td>\n",
       "    </tr>\n",
       "    <tr>\n",
       "      <td>36957</td>\n",
       "      <td>54988</td>\n",
       "      <td>Yes</td>\n",
       "      <td>0</td>\n",
       "      <td>1</td>\n",
       "      <td>30.263528</td>\n",
       "      <td>-0.559039</td>\n",
       "      <td>2</td>\n",
       "      <td>3</td>\n",
       "      <td>2</td>\n",
       "      <td>2</td>\n",
       "      <td>False</td>\n",
       "      <td>0.727585</td>\n",
       "      <td>10</td>\n",
       "    </tr>\n",
       "    <tr>\n",
       "      <td>19234</td>\n",
       "      <td>28627</td>\n",
       "      <td>Yes</td>\n",
       "      <td>0</td>\n",
       "      <td>2</td>\n",
       "      <td>29.515353</td>\n",
       "      <td>-0.991928</td>\n",
       "      <td>2</td>\n",
       "      <td>3</td>\n",
       "      <td>4</td>\n",
       "      <td>2</td>\n",
       "      <td>False</td>\n",
       "      <td>0.727585</td>\n",
       "      <td>10</td>\n",
       "    </tr>\n",
       "    <tr>\n",
       "      <td>74824</td>\n",
       "      <td>111658</td>\n",
       "      <td>No</td>\n",
       "      <td>0</td>\n",
       "      <td>0</td>\n",
       "      <td>30.091188</td>\n",
       "      <td>-0.039572</td>\n",
       "      <td>2</td>\n",
       "      <td>3</td>\n",
       "      <td>1</td>\n",
       "      <td>2</td>\n",
       "      <td>False</td>\n",
       "      <td>0.727585</td>\n",
       "      <td>10</td>\n",
       "    </tr>\n",
       "    <tr>\n",
       "      <td>79710</td>\n",
       "      <td>118964</td>\n",
       "      <td>No</td>\n",
       "      <td>0</td>\n",
       "      <td>1</td>\n",
       "      <td>30.346373</td>\n",
       "      <td>-0.732194</td>\n",
       "      <td>2</td>\n",
       "      <td>3</td>\n",
       "      <td>1</td>\n",
       "      <td>1</td>\n",
       "      <td>False</td>\n",
       "      <td>0.727585</td>\n",
       "      <td>10</td>\n",
       "    </tr>\n",
       "  </tbody>\n",
       "</table>\n",
       "</div>"
      ],
      "text/plain": [
       "           ID Promotion  purchase  V1         V2        V3  V4  V5  V6  V7  \\\n",
       "63907   95205       Yes         0   2  29.866117  0.047006   2   3   4   2   \n",
       "36957   54988       Yes         0   1  30.263528 -0.559039   2   3   2   2   \n",
       "19234   28627       Yes         0   2  29.515353 -0.991928   2   3   4   2   \n",
       "74824  111658        No         0   0  30.091188 -0.039572   2   3   1   2   \n",
       "79710  118964        No         0   1  30.346373 -0.732194   2   3   1   1   \n",
       "\n",
       "       target  Uplift score Decile bin  \n",
       "63907   False      0.727585         10  \n",
       "36957   False      0.727585         10  \n",
       "19234   False      0.727585         10  \n",
       "74824   False      0.727585         10  \n",
       "79710   False      0.727585         10  "
      ]
     },
     "execution_count": 60,
     "metadata": {},
     "output_type": "execute_result"
    }
   ],
   "source": [
    "sorted_valid = valid_w_score.sort_values('Uplift score', ascending=False)\n",
    "sorted_valid.head()"
   ]
  },
  {
   "cell_type": "markdown",
   "metadata": {},
   "source": [
    "Check method of counting those who received promotion."
   ]
  },
  {
   "cell_type": "code",
   "execution_count": 61,
   "metadata": {},
   "outputs": [
    {
     "data": {
      "text/plain": [
       "3"
      ]
     },
     "execution_count": 61,
     "metadata": {},
     "output_type": "execute_result"
    }
   ],
   "source": [
    "(sorted_valid.iloc[0:4,:]['Promotion'] == 'Yes').sum()"
   ]
  },
  {
   "cell_type": "code",
   "execution_count": 62,
   "metadata": {},
   "outputs": [
    {
     "data": {
      "text/plain": [
       "(16907, 13)"
      ]
     },
     "execution_count": 62,
     "metadata": {},
     "output_type": "execute_result"
    }
   ],
   "source": [
    "sorted_valid.shape"
   ]
  },
  {
   "cell_type": "markdown",
   "metadata": {},
   "source": [
    "Variable names follow notation in Gutierrez and Gerardy."
   ]
  },
  {
   "cell_type": "code",
   "execution_count": 63,
   "metadata": {},
   "outputs": [
    {
     "name": "stderr",
     "output_type": "stream",
     "text": [
      "/Users/Steve/anaconda3/lib/python3.7/site-packages/ipykernel_launcher.py:18: RuntimeWarning: invalid value encountered in long_scalars\n"
     ]
    },
    {
     "name": "stdout",
     "output_type": "stream",
     "text": [
      "0\n",
      "1000\n",
      "2000\n",
      "3000\n",
      "4000\n",
      "5000\n",
      "6000\n",
      "7000\n",
      "8000\n",
      "9000\n",
      "10000\n",
      "11000\n",
      "12000\n",
      "13000\n",
      "14000\n",
      "15000\n",
      "16000\n",
      "CPU times: user 1min 52s, sys: 495 ms, total: 1min 52s\n",
      "Wall time: 1min 52s\n"
     ]
    }
   ],
   "source": [
    "%%time\n",
    "y_t = []\n",
    "y_c = []\n",
    "n_t = []\n",
    "n_c = []\n",
    "gain_curve = []\n",
    "for row_ix in range(sorted_valid.shape[0]):\n",
    "    y_t.append(\n",
    "        ((sorted_valid.iloc[0:row_ix,:]['Promotion'] == 'Yes') &\n",
    "         (sorted_valid.iloc[0:row_ix,:]['purchase'] == 1)).sum()\n",
    "    )\n",
    "    y_c.append(\n",
    "        ((sorted_valid.iloc[0:row_ix,:]['Promotion'] == 'No') &\n",
    "         (sorted_valid.iloc[0:row_ix,:]['purchase'] == 1)).sum()\n",
    "    )\n",
    "    n_t.append((sorted_valid.iloc[0:row_ix,:]['Promotion'] == 'Yes').sum())\n",
    "    n_c.append((sorted_valid.iloc[0:row_ix,:]['Promotion'] == 'No').sum())\n",
    "    \n",
    "    gain_curve.append( ((y_t[-1]/n_t[-1]) - (y_c[-1]/n_c[-1])) * (n_t[-1] + n_c[-1]) )\n",
    "    \n",
    "    if row_ix % 1000 == 0:\n",
    "        print(row_ix)\n",
    "#Wall time: 1min 49s at home"
   ]
  },
  {
   "cell_type": "markdown",
   "metadata": {},
   "source": [
    "Probably a divide by zero error early on.\n",
    "\n",
    "__Could probably make this faster by not calculating on the whole dataframe each time, but rather just calculating one row and keeping a list of cumulative sums.__"
   ]
  },
  {
   "cell_type": "markdown",
   "metadata": {},
   "source": [
    "Plot the gain curve, along with the theoretical gain from offering the promotion at random."
   ]
  },
  {
   "cell_type": "code",
   "execution_count": 64,
   "metadata": {},
   "outputs": [],
   "source": [
    "n_customers = np.array(range(len(gain_curve)))\n",
    "random_promotion = n_customers*lift_from_all"
   ]
  },
  {
   "cell_type": "code",
   "execution_count": 65,
   "metadata": {},
   "outputs": [
    {
     "data": {
      "text/plain": [
       "<matplotlib.legend.Legend at 0x1a256edf10>"
      ]
     },
     "execution_count": 65,
     "metadata": {},
     "output_type": "execute_result"
    },
    {
     "data": {
      "image/png": "[encoded data removed]",
      "text/plain": [
       "<Figure size 1200x800 with 1 Axes>"
      ]
     },
     "metadata": {
      "needs_background": "light"
     },
     "output_type": "display_data"
    }
   ],
   "source": [
    "plt.plot(n_customers, random_promotion, label='Offer promotion at random')\n",
    "plt.plot(n_customers, gain_curve, label='Uplift model guided promotion')\n",
    "plt.grid()\n",
    "plt.title('Cumulative gain curve')\n",
    "plt.ylabel('Incremental customers')\n",
    "plt.xlabel('Number of customers receiving promotion')\n",
    "plt.legend()"
   ]
  },
  {
   "cell_type": "markdown",
   "metadata": {},
   "source": [
    "Neat. All the evidence here points to there not being a particularly strong sleeping dog effect in this data set. If there were, the gain curve would slope down more at the highest number of customers.\n",
    "\n",
    "This curve, in comparison with the random line, shows how many more incremental customers can be gained from using a model-guided strategy, as opposed to offering the promotion at random."
   ]
  },
  {
   "cell_type": "markdown",
   "metadata": {},
   "source": [
    "### Area under the gain curve <a class=\"anchor\" id=\"area-under\"></a>\n",
    "The area under the gain curve can be calculated from as a general indicator of the performance of an uplift model. Intuitively, it seems like a good uplift model should introduce a large number of incremental customers at the highest uplift scores, and push the sleeping dogs to the lowest scores, effectively sloping the uplift. Models with these characteristics would tend to have larger areas under the gain curve.\n",
    "\n",
    "This statistic can be compared between different modeling approaches, similar how the area under the ROC curve is commonly used for binary classifiers."
   ]
  },
  {
   "cell_type": "markdown",
   "metadata": {},
   "source": [
    "Get rid of the first few NaNs and calculate the AUC."
   ]
  },
  {
   "cell_type": "code",
   "execution_count": 66,
   "metadata": {},
   "outputs": [
    {
     "data": {
      "text/plain": [
       "[nan, nan, nan, nan, 0.0, 0.0, 0.0, 0.0]"
      ]
     },
     "execution_count": 66,
     "metadata": {},
     "output_type": "execute_result"
    }
   ],
   "source": [
    "gain_curve[:8]"
   ]
  },
  {
   "cell_type": "code",
   "execution_count": 67,
   "metadata": {},
   "outputs": [
    {
     "data": {
      "text/plain": [
       "1989093.426401922"
      ]
     },
     "execution_count": 67,
     "metadata": {},
     "output_type": "execute_result"
    }
   ],
   "source": [
    "auc(x=range(len(gain_curve[4:])), y = gain_curve[4:])"
   ]
  },
  {
   "cell_type": "markdown",
   "metadata": {},
   "source": [
    "This is not necessarily interpretable by itself, as the AUC of the ROC is, but it could be used to compare models."
   ]
  },
  {
   "cell_type": "markdown",
   "metadata": {},
   "source": [
    "### Cost benefit analysis <a class=\"anchor\" id=\"cost-benefit\"></a>\n",
    "\n",
    "A more financially relevant way to determine the effect of the model on business operations is a cost-benefit analysis. This may or may not indicate the same number of customers to send the promotion to, as the financially unaware Qini curve.\n",
    "\n",
    "A simple way to do this would be to look at the profit (revenue minus cost) of targeting the top n scorers in the validation set. If we assume the revenue of a sale is \\\\$10 and the cost of offering the promotion is \\\\$0.25 (note I chose a larger cost than the \\\\$0.15 in the data challenge because it creates a clearer optimization), we can find the optimal number of people to target by using the results from the gain curve.\n",
    "\n",
    "Given the variables created above, we can calcuate profit as follows:"
   ]
  },
  {
   "cell_type": "code",
   "execution_count": 68,
   "metadata": {},
   "outputs": [],
   "source": [
    "revenue = (np.array(y_t) + np.array(y_c)) * 10\n",
    "cost = np.array(n_t) * 0.25\n",
    "profit = revenue - cost"
   ]
  },
  {
   "cell_type": "code",
   "execution_count": 69,
   "metadata": {},
   "outputs": [
    {
     "data": {
      "text/plain": [
       "Text(0.5, 0, 'Number of customers receiving promotion')"
      ]
     },
     "execution_count": 69,
     "metadata": {},
     "output_type": "execute_result"
    },
    {
     "data": {
      "image/png": "[encoded data removed]",
      "text/plain": [
       "<Figure size 1200x800 with 1 Axes>"
      ]
     },
     "metadata": {
      "needs_background": "light"
     },
     "output_type": "display_data"
    }
   ],
   "source": [
    "plt.plot(profit)\n",
    "plt.grid()\n",
    "plt.title('Cost-benefit analysis')\n",
    "plt.ylabel('Profit of promotion ($)')\n",
    "plt.xlabel('Number of customers receiving promotion')"
   ]
  },
  {
   "cell_type": "markdown",
   "metadata": {},
   "source": [
    "It appears that the procedure of ranking people on their uplift score, then offering promotions to the highest scorers, creates increasing profits up to about 8-9,000 people. Beyond that, the cost of the promotion outweighs the chances of purchase."
   ]
  },
  {
   "cell_type": "markdown",
   "metadata": {},
   "source": [
    "# Other modeling approaches <a class=\"anchor\" id=\"Other\"></a>\n",
    "There are many different methods proposed for uplift modeling. I've started a [Google Drive literature review to organize them here](https://docs.google.com/spreadsheets/d/1V5oyKAR0MF2vyXTZ-J3Qq6lcDSHCz4TJyILCAvd0dME/edit?usp=sharing). That is still in progress; please let me know if there are additional resources to consider there, or if I've gotten anything wrong.\n",
    "\n",
    "- Two models\n",
    "    - One for treatment group, one for control group. Scores are differenced for uplift\n",
    "- One model with treatment variable\n",
    "    - Scored twice, once with treatment = 1, and once with = 0, and differenced for uplift\n",
    "- Transformation to binary target, then use binary classification model (illustrated here)\n",
    "- Transformed outcome in a regression model ([Yi and Frost, 2018](https://tech.wayfair.com/data-science/2018/10/pylift-a-fast-python-package-for-uplift-modeling))\n",
    "- Multiclass model using a 4 class target (see first image in notebook)\n",
    "- Tree-growing algorithms with uplift-based splitting criteria ([Gutierrez and Gerardy, 2016](http://proceedings.mlr.press/v67/gutierrez17a/gutierrez17a.pdf), [CausalML](https://causalml.readthedocs.io/en/latest/about.html))\n",
    "\n",
    "### Multivariate testing <a class=\"anchor\" id=\"Multivariate\"></a>\n",
    "Apparently uplift modeling can be extended to consider multiple treatments ([Gutierrez and Gerardy, 2016](http://proceedings.mlr.press/v67/gutierrez17a/gutierrez17a.pdf), [CausalML](https://causalml.readthedocs.io/en/latest/about.html)) and determine the one with the highest uplift. This seems like it would require data from a multivariate experiment."
   ]
  },
  {
   "cell_type": "markdown",
   "metadata": {},
   "source": [
    "# Feature selection <a class=\"anchor\" id=\"Feature\"></a>\n",
    "\n",
    "In this contrived example, we were presented with a small number of explanatory variables and performed no feature selection. In reality, feature selection is an important part of the predictive modeling workflow.\n",
    "\n",
    "The target encoding used above simplifies the task of feature selection, since the binary classification model (e.g. XGBoost) can be used to rank features in terms of feature importance, or mean absolute SHAP value.\n",
    "\n",
    "When not using an encoding such as this, for example in the two-model approach, a standard method for variable prescreening in uplift modeling builds on the concepts of weight of evidence (WOE) and information value (IV). These concepts have been traditionally used to perform univariate feature selection in the context of binary classification. WOE and IV rely on binning values of predictors, so they present a unified framework to consider continuous and categorial features, as well as capturing linear and non-linear effects and handling missing values.\n",
    "\n",
    "To extend these concepts to uplift modeling and account for the treatment effect, the techniques of net weight of evidence (NWOE) and net information value (NIV) are used. Some good reads on this can be found [here](https://multithreaded.stitchfix.com/blog/2015/08/13/weight-of-evidence/) and [here](https://support.sas.com/resources/papers/proceedings13/096-2013.pdf).\n",
    "\n",
    "An opportunity here is to implement NWOE and NIV in Python, possibly as a new package, or as a contribution to another package, as this does not appear to have been done (as it has been in SAS and I think R).\n",
    "\n",
    "This would enable an independent point of comparison to feature importances or SHAPs from XGBoost above."
   ]
  },
  {
   "cell_type": "markdown",
   "metadata": {},
   "source": [
    "# Weight of Evidence, Information Value, and their uplift counterparts\n",
    "Following Lee et al. 2013:"
   ]
  },
  {
   "cell_type": "markdown",
   "metadata": {},
   "source": [
    ">The WOE is calculated after the predictors are put into meaningful bins. However, in practice, you usually select 20 equally sized bins based on the quantiles and the data distribution."
   ]
  },
  {
   "cell_type": "markdown",
   "metadata": {},
   "source": [
    "Moreover, this should be done separately on the training and validation sets, for a penalized net WOE and IV."
   ]
  },
  {
   "cell_type": "code",
   "execution_count": 70,
   "metadata": {},
   "outputs": [
    {
     "data": {
      "text/plain": [
       "(67627, 11)"
      ]
     },
     "execution_count": 70,
     "metadata": {},
     "output_type": "execute_result"
    }
   ],
   "source": [
    "train.shape"
   ]
  },
  {
   "cell_type": "code",
   "execution_count": 71,
   "metadata": {},
   "outputs": [
    {
     "data": {
      "text/html": [
       "<div>\n",
       "<style scoped>\n",
       "    .dataframe tbody tr th:only-of-type {\n",
       "        vertical-align: middle;\n",
       "    }\n",
       "\n",
       "    .dataframe tbody tr th {\n",
       "        vertical-align: top;\n",
       "    }\n",
       "\n",
       "    .dataframe thead th {\n",
       "        text-align: right;\n",
       "    }\n",
       "</style>\n",
       "<table border=\"1\" class=\"dataframe\">\n",
       "  <thead>\n",
       "    <tr style=\"text-align: right;\">\n",
       "      <th></th>\n",
       "      <th>ID</th>\n",
       "      <th>Promotion</th>\n",
       "      <th>purchase</th>\n",
       "      <th>V1</th>\n",
       "      <th>V2</th>\n",
       "      <th>V3</th>\n",
       "      <th>V4</th>\n",
       "      <th>V5</th>\n",
       "      <th>V6</th>\n",
       "      <th>V7</th>\n",
       "      <th>target</th>\n",
       "    </tr>\n",
       "  </thead>\n",
       "  <tbody>\n",
       "    <tr>\n",
       "      <td>66588</td>\n",
       "      <td>99250</td>\n",
       "      <td>Yes</td>\n",
       "      <td>0</td>\n",
       "      <td>3</td>\n",
       "      <td>34.470493</td>\n",
       "      <td>-1.078506</td>\n",
       "      <td>1</td>\n",
       "      <td>1</td>\n",
       "      <td>1</td>\n",
       "      <td>2</td>\n",
       "      <td>False</td>\n",
       "    </tr>\n",
       "    <tr>\n",
       "      <td>62125</td>\n",
       "      <td>92564</td>\n",
       "      <td>No</td>\n",
       "      <td>0</td>\n",
       "      <td>1</td>\n",
       "      <td>28.065819</td>\n",
       "      <td>-1.165083</td>\n",
       "      <td>1</td>\n",
       "      <td>1</td>\n",
       "      <td>3</td>\n",
       "      <td>1</td>\n",
       "      <td>False</td>\n",
       "    </tr>\n",
       "    <tr>\n",
       "      <td>27827</td>\n",
       "      <td>41307</td>\n",
       "      <td>Yes</td>\n",
       "      <td>0</td>\n",
       "      <td>1</td>\n",
       "      <td>27.142590</td>\n",
       "      <td>-1.511395</td>\n",
       "      <td>1</td>\n",
       "      <td>3</td>\n",
       "      <td>3</td>\n",
       "      <td>2</td>\n",
       "      <td>False</td>\n",
       "    </tr>\n",
       "    <tr>\n",
       "      <td>66648</td>\n",
       "      <td>99341</td>\n",
       "      <td>Yes</td>\n",
       "      <td>0</td>\n",
       "      <td>3</td>\n",
       "      <td>28.782344</td>\n",
       "      <td>-1.078506</td>\n",
       "      <td>1</td>\n",
       "      <td>1</td>\n",
       "      <td>1</td>\n",
       "      <td>2</td>\n",
       "      <td>False</td>\n",
       "    </tr>\n",
       "    <tr>\n",
       "      <td>47392</td>\n",
       "      <td>70517</td>\n",
       "      <td>No</td>\n",
       "      <td>0</td>\n",
       "      <td>2</td>\n",
       "      <td>39.605508</td>\n",
       "      <td>-0.645617</td>\n",
       "      <td>2</td>\n",
       "      <td>3</td>\n",
       "      <td>1</td>\n",
       "      <td>2</td>\n",
       "      <td>False</td>\n",
       "    </tr>\n",
       "  </tbody>\n",
       "</table>\n",
       "</div>"
      ],
      "text/plain": [
       "          ID Promotion  purchase  V1         V2        V3  V4  V5  V6  V7  \\\n",
       "66588  99250       Yes         0   3  34.470493 -1.078506   1   1   1   2   \n",
       "62125  92564        No         0   1  28.065819 -1.165083   1   1   3   1   \n",
       "27827  41307       Yes         0   1  27.142590 -1.511395   1   3   3   2   \n",
       "66648  99341       Yes         0   3  28.782344 -1.078506   1   1   1   2   \n",
       "47392  70517        No         0   2  39.605508 -0.645617   2   3   1   2   \n",
       "\n",
       "       target  \n",
       "66588   False  \n",
       "62125   False  \n",
       "27827   False  \n",
       "66648   False  \n",
       "47392   False  "
      ]
     },
     "execution_count": 71,
     "metadata": {},
     "output_type": "execute_result"
    }
   ],
   "source": [
    "train.head()"
   ]
  },
  {
   "cell_type": "code",
   "execution_count": 74,
   "metadata": {},
   "outputs": [
    {
     "data": {
      "text/plain": [
       "0    66795\n",
       "1      832\n",
       "Name: purchase, dtype: int64"
      ]
     },
     "execution_count": 74,
     "metadata": {},
     "output_type": "execute_result"
    }
   ],
   "source": [
    "train['purchase'].value_counts()"
   ]
  },
  {
   "cell_type": "code",
   "execution_count": 72,
   "metadata": {},
   "outputs": [
    {
     "data": {
      "text/plain": [
       "(16907, 11)"
      ]
     },
     "execution_count": 72,
     "metadata": {},
     "output_type": "execute_result"
    }
   ],
   "source": [
    "valid.shape"
   ]
  },
  {
   "cell_type": "code",
   "execution_count": 73,
   "metadata": {},
   "outputs": [
    {
     "data": {
      "text/plain": [
       "0    16699\n",
       "1      208\n",
       "Name: purchase, dtype: int64"
      ]
     },
     "execution_count": 73,
     "metadata": {},
     "output_type": "execute_result"
    }
   ],
   "source": [
    "valid['purchase'].value_counts()"
   ]
  },
  {
   "cell_type": "markdown",
   "metadata": {},
   "source": [
    "I suppose I'll use the raw, unbalanced data here."
   ]
  },
  {
   "cell_type": "markdown",
   "metadata": {},
   "source": [
    "Define a function to get bins for one predictor."
   ]
  },
  {
   "cell_type": "code",
   "execution_count": 85,
   "metadata": {},
   "outputs": [
    {
     "data": {
      "text/plain": [
       "2    25335\n",
       "1    25228\n",
       "3     8536\n",
       "0     8528\n",
       "Name: V1, dtype: int64"
      ]
     },
     "execution_count": 85,
     "metadata": {},
     "output_type": "execute_result"
    }
   ],
   "source": [
    "train['V1'].value_counts()"
   ]
  },
  {
   "cell_type": "code",
   "execution_count": 87,
   "metadata": {},
   "outputs": [
    {
     "data": {
      "text/plain": [
       "4"
      ]
     },
     "execution_count": 87,
     "metadata": {},
     "output_type": "execute_result"
    }
   ],
   "source": [
    "train['V1'].nunique()"
   ]
  },
  {
   "cell_type": "code",
   "execution_count": 88,
   "metadata": {},
   "outputs": [
    {
     "data": {
      "text/plain": [
       "array([3, 1, 2, 0])"
      ]
     },
     "execution_count": 88,
     "metadata": {},
     "output_type": "execute_result"
    }
   ],
   "source": [
    "train['V1'].unique()"
   ]
  },
  {
   "cell_type": "markdown",
   "metadata": {},
   "source": [
    "Make a helper function to calculate the probabilities of bin membership conditional on success and treatment"
   ]
  },
  {
   "cell_type": "code",
   "execution_count": 107,
   "metadata": {},
   "outputs": [],
   "source": [
    "def bin_prob(quantile_series, which_bin, success_mask, treatment_mask, n_matrix):\n",
    "    bin_val_mask = quantile_series == which_bin#bins[bin_count]\n",
    "    p1t = sum(bin_val_mask & success_mask & treatment_mask) / n_matrix[0]\n",
    "    p0t = sum(bin_val_mask & ~success_mask & treatment_mask) / n_matrix[1]\n",
    "    p1c = sum(bin_val_mask & success_mask & ~treatment_mask) / n_matrix[2]\n",
    "    p0c = sum(bin_val_mask & ~success_mask & ~treatment_mask) / n_matrix[3]\n",
    "    \n",
    "    #***Also return p_matrix\n",
    "    \n",
    "    return p1t, p0t, p1c, p0c"
   ]
  },
  {
   "cell_type": "markdown",
   "metadata": {},
   "source": [
    "Although the paper isn't totally clear on this, to calculate penalized NIV, I will use the same bins determined from the training set, to calculate NIV on the validation set. This seems in keeping with the concept of a validation set. Then, I'll use the conditional probabilities of the training NIV to calculate the penalty, as these would seem to be the more accurate estimates on the assumption that the training set is larger than the validation set."
   ]
  },
  {
   "cell_type": "code",
   "execution_count": 108,
   "metadata": {},
   "outputs": [],
   "source": [
    "quantile_series_practice, bins_practice = \\\n",
    "        pd.qcut(x=train['V2'], q=20,\n",
    "                labels=None, retbins=True, precision=3, duplicates='raise')"
   ]
  },
  {
   "cell_type": "code",
   "execution_count": 110,
   "metadata": {},
   "outputs": [
    {
     "data": {
      "text/plain": [
       "7.10400719"
      ]
     },
     "execution_count": 110,
     "metadata": {},
     "output_type": "execute_result"
    }
   ],
   "source": [
    "train['V2'].min()"
   ]
  },
  {
   "cell_type": "code",
   "execution_count": 111,
   "metadata": {},
   "outputs": [
    {
     "data": {
      "text/plain": [
       "49.8237081"
      ]
     },
     "execution_count": 111,
     "metadata": {},
     "output_type": "execute_result"
    }
   ],
   "source": [
    "train['V2'].max()"
   ]
  },
  {
   "cell_type": "code",
   "execution_count": 109,
   "metadata": {},
   "outputs": [
    {
     "data": {
      "text/plain": [
       "array([ 7.10400719, 21.72402847, 23.59279424, 24.79009646, 25.7777    ,\n",
       "       26.59183305, 27.35055796, 28.06245915, 28.72462888, 29.3577596 ,\n",
       "       29.9798408 , 30.61462076, 31.24681776, 31.90485728, 32.59198086,\n",
       "       33.3377223 , 34.18857316, 35.16659987, 36.39177794, 38.21514697,\n",
       "       49.8237081 ])"
      ]
     },
     "execution_count": 109,
     "metadata": {},
     "output_type": "execute_result"
    }
   ],
   "source": [
    "bins_practice"
   ]
  },
  {
   "cell_type": "code",
   "execution_count": 115,
   "metadata": {},
   "outputs": [],
   "source": [
    "bins_practice_valid = copy.copy(bins_practice)"
   ]
  },
  {
   "cell_type": "code",
   "execution_count": 116,
   "metadata": {},
   "outputs": [
    {
     "data": {
      "text/plain": [
       "11.1363374"
      ]
     },
     "execution_count": 116,
     "metadata": {},
     "output_type": "execute_result"
    }
   ],
   "source": [
    "valid['V2'].min()"
   ]
  },
  {
   "cell_type": "code",
   "execution_count": 117,
   "metadata": {},
   "outputs": [
    {
     "data": {
      "text/plain": [
       "50.3759126"
      ]
     },
     "execution_count": 117,
     "metadata": {},
     "output_type": "execute_result"
    }
   ],
   "source": [
    "valid['V2'].max()"
   ]
  },
  {
   "cell_type": "code",
   "execution_count": 104,
   "metadata": {},
   "outputs": [],
   "source": [
    "def penalized_niv(feature_name, df_train, df_valid, n_quantiles):\n",
    "    #Test to see if there are more than n_quantiles unique values\n",
    "    #Otherwise use the values themselves as the bins\n",
    "    \n",
    "    if df_train[feature_name].nunique() <= n_quantiles:\n",
    "        bins = df_train[feature_name].unique()\n",
    "        quantile_series_train = df_train[feature_name]\n",
    "        #***Insert a check that the validation set has the same unique values\n",
    "        quantile_series_valid = df_valid[feature_name]\n",
    "    else:\n",
    "        quantile_series_train, bins = \\\n",
    "        pd.qcut(x=df_train[feature_name], q=n_quantiles,\n",
    "                labels=None, retbins=True, precision=3, duplicates='raise')\n",
    "        #Use the bins from the training set to group the \n",
    "        #validation set. Make sure the lowest and highest bins\n",
    "        #will contain all values in the validation set.\n",
    "        bins_valid = copy.copy(bins)\n",
    "        if df_valid[feature_name].min() < bins[0]:\n",
    "            bins_valid[0] = df_valid[feature_name].min()\n",
    "        if df_valid[feature_name].max() > bins[-1]:\n",
    "            bins_valid[-1] = df_valid[feature_name].max()\n",
    "        quantile_series_valid = \\\n",
    "        pd.cut(x=df_valid[feature_name], bins_valid,\n",
    "                   right=True, labels=None, retbins=False, precision=3,\n",
    "                   include_lowest=True, duplicates='raise')\n",
    "        \n",
    "    \n",
    "#     print(quantile_series)\n",
    "#     print(bins)\n",
    "    \n",
    "    #***Make a helper function to do this separately for train and validation\n",
    "    success_mask = df['purchase'] == 1\n",
    "    treatment_mask = df['Promotion'] == 'Yes'\n",
    "    n_success_treatment = sum(success_mask & treatment_mask)\n",
    "    n_failure_treatment = sum(~success_mask & treatment_mask)\n",
    "    n_success_control = sum(success_mask & ~treatment_mask)\n",
    "    n_failure_control = sum(~success_mask & ~treatment_mask)\n",
    "    n_matrix = np.array([n_success_treatment,\n",
    "                         n_failure_treatment,\n",
    "                         n_success_control,\n",
    "                         n_failure_control])\n",
    "#     print (n_success, n_failure)\n",
    "    n_obs = df.shape[0]\n",
    "    \n",
    "    p_matrix = np.empty((len(bins), 4))\n",
    "    nwoe = np.empty((len(bins),))\n",
    "    niv_summands = np.empty((len(bins),))\n",
    "    \n",
    "    for bin_count in range(len(bins)):\n",
    "        #Calculative probabilities of the sample being in this bin\n",
    "        #Conditional on success and treatment\n",
    "        ###***This is now done by a helper function\n",
    "        bin_val_mask = quantile_series == bins[bin_count]\n",
    "        p1t = sum(bin_val_mask & success_mask & treatment_mask) / n_success_treatment\n",
    "        p0t = sum(bin_val_mask & ~success_mask & treatment_mask) / n_failure_treatment\n",
    "        p1c = sum(bin_val_mask & success_mask & ~treatment_mask) / n_success_control\n",
    "        p0c = sum(bin_val_mask & ~success_mask & ~treatment_mask) / n_failure_control\n",
    "        \n",
    "        #Put them all in a matrix for checking\n",
    "        p_matrix[bin_count, 0] = p1t\n",
    "        p_matrix[bin_count, 1] = p0t\n",
    "        p_matrix[bin_count, 2] = p1c\n",
    "        p_matrix[bin_count, 3] = p0c\n",
    "#         print(p1t, p0t, p1c, p0c)\n",
    "        \n",
    "        nwoe[bin_count] = np.log((p1t/p0t)/(p1c/p0c))\n",
    "        niv_summands[bin_count] = (p1t*p0c - p0t*p1c) * nwoe[bin_count]\n",
    "    \n",
    "    #Check that these sum to one down each column\n",
    "    print(p_matrix)\n",
    "    print(p_matrix.sum(axis=0))\n",
    "    \n",
    "    \n",
    "    print(nwoe)\n",
    "    print(niv_summands)\n",
    "    print(niv_summands.sum())"
   ]
  },
  {
   "cell_type": "code",
   "execution_count": 105,
   "metadata": {},
   "outputs": [
    {
     "name": "stdout",
     "output_type": "stream",
     "text": [
      "[[0.09310345 0.12842194 0.1031746  0.12477574]\n",
      " [0.35344828 0.37054361 0.42460317 0.37549336]\n",
      " [0.4137931  0.37597074 0.33333333 0.3729219 ]\n",
      " [0.13965517 0.12506372 0.13888889 0.12680899]]\n",
      "[1. 1. 1. 1.]\n",
      "[-0.13151465 -0.17014823  0.20808081  0.01936071]\n",
      "[2.14741092e-04 4.18845595e-03 6.03204041e-03 6.57434284e-06]\n",
      "0.010441811793226317\n"
     ]
    }
   ],
   "source": [
    "penalized_niv('V1', train, valid, 20)"
   ]
  },
  {
   "cell_type": "markdown",
   "metadata": {},
   "source": [
    "So, where I think I would want 4 bins here, pandas seems to force 3. That's kind of annoying. I suppose if there is less than a certain number of unique values, I can just use the feature value itself as the bin."
   ]
  },
  {
   "cell_type": "markdown",
   "metadata": {},
   "source": [
    "What would a nice blog post around this be? I wonder if the tree-based algorithms of CausalML give a feature importance that can be tied to uplift specifically. If so, it would be interesting to compare those, to the feature ranking and values we can get out of this."
   ]
  },
  {
   "cell_type": "code",
   "execution_count": null,
   "metadata": {},
   "outputs": [],
   "source": []
  }
 ],
 "metadata": {
  "kernelspec": {
   "display_name": "Python 3",
   "language": "python",
   "name": "python3"
  },
  "language_info": {
   "codemirror_mode": {
    "name": "ipython",
    "version": 3
   },
   "file_extension": ".py",
   "mimetype": "text/x-python",
   "name": "python",
   "nbconvert_exporter": "python",
   "pygments_lexer": "ipython3",
   "version": "3.7.4"
  }
 },
 "nbformat": 4,
 "nbformat_minor": 2
}
